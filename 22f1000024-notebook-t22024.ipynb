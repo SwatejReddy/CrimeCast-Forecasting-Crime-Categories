{
 "cells": [
  {
   "cell_type": "code",
   "execution_count": 1,
   "id": "c4d7051b",
   "metadata": {
    "_cell_guid": "b1076dfc-b9ad-4769-8c92-a6c4dae69d19",
    "_uuid": "8f2839f25d086af736a60e9eeb907d3b93b6e0e5",
    "execution": {
     "iopub.execute_input": "2024-08-19T13:21:15.526083Z",
     "iopub.status.busy": "2024-08-19T13:21:15.525654Z",
     "iopub.status.idle": "2024-08-19T13:21:16.708650Z",
     "shell.execute_reply": "2024-08-19T13:21:16.706795Z"
    },
    "papermill": {
     "duration": 1.218197,
     "end_time": "2024-08-19T13:21:16.711795",
     "exception": false,
     "start_time": "2024-08-19T13:21:15.493598",
     "status": "completed"
    },
    "tags": []
   },
   "outputs": [
    {
     "name": "stdout",
     "output_type": "stream",
     "text": [
      "/kaggle/input/crime-cast-forecasting-crime-categories/sample.csv\n",
      "/kaggle/input/crime-cast-forecasting-crime-categories/train.csv\n",
      "/kaggle/input/crime-cast-forecasting-crime-categories/test.csv\n"
     ]
    }
   ],
   "source": [
    "# This Python 3 environment comes with many helpful analytics libraries installed\n",
    "# It is defined by the kaggle/python Docker image: https://github.com/kaggle/docker-python\n",
    "# For example, here's several helpful packages to load\n",
    "\n",
    "import numpy as np # linear algebra\n",
    "import pandas as pd # data processing, CSV file I/O (e.g. pd.read_csv)\n",
    "\n",
    "# Input data files are available in the read-only \"../input/\" directory\n",
    "# For example, running this (by clicking run or pressing Shift+Enter) will list all files under the input directory\n",
    "\n",
    "import os\n",
    "for dirname, _, filenames in os.walk('/kaggle/input'):\n",
    "    for filename in filenames:\n",
    "        print(os.path.join(dirname, filename))\n",
    "\n",
    "# You can write up to 20GB to the current directory (/kaggle/working/) that gets preserved as output when you create a version using \"Save & Run All\" \n",
    "# You can also write temporary files to /kaggle/temp/, but they won't be saved outside of the current session"
   ]
  },
  {
   "cell_type": "code",
   "execution_count": 2,
   "id": "ad684a97",
   "metadata": {
    "execution": {
     "iopub.execute_input": "2024-08-19T13:21:16.771225Z",
     "iopub.status.busy": "2024-08-19T13:21:16.769822Z",
     "iopub.status.idle": "2024-08-19T13:21:19.165780Z",
     "shell.execute_reply": "2024-08-19T13:21:19.164245Z"
    },
    "papermill": {
     "duration": 2.429969,
     "end_time": "2024-08-19T13:21:19.169399",
     "exception": false,
     "start_time": "2024-08-19T13:21:16.739430",
     "status": "completed"
    },
    "tags": []
   },
   "outputs": [],
   "source": [
    "import numpy as np\n",
    "import pandas as pd\n",
    "from sklearn.model_selection import train_test_split\n",
    "from sklearn.metrics import accuracy_score\n",
    "from sklearn.impute import SimpleImputer\n",
    "from sklearn.linear_model import LogisticRegression\n",
    "from sklearn.svm import SVC\n",
    "from sklearn.tree import DecisionTreeClassifier\n",
    "from sklearn.ensemble import RandomForestClassifier, GradientBoostingClassifier, ExtraTreesClassifier\n",
    "from sklearn.preprocessing import MultiLabelBinarizer\n",
    "from sklearn.preprocessing import LabelEncoder\n",
    "import matplotlib.pyplot as plt\n",
    "import seaborn as sns\n",
    "from sklearn.model_selection import RandomizedSearchCV\n",
    "from sklearn.metrics import classification_report\n",
    "from sklearn.pipeline import Pipeline\n",
    "from sklearn.preprocessing import FunctionTransformer\n",
    "from sklearn.preprocessing import OneHotEncoder\n",
    "from sklearn.preprocessing import MinMaxScaler\n",
    "from sklearn.compose import ColumnTransformer\n",
    "from sklearn.impute import SimpleImputer\n",
    "from sklearn.model_selection import RandomizedSearchCV"
   ]
  },
  {
   "cell_type": "markdown",
   "id": "c3f2ac82",
   "metadata": {
    "papermill": {
     "duration": 0.027755,
     "end_time": "2024-08-19T13:21:19.225828",
     "exception": false,
     "start_time": "2024-08-19T13:21:19.198073",
     "status": "completed"
    },
    "tags": []
   },
   "source": [
    "# Dataset Loading"
   ]
  },
  {
   "cell_type": "code",
   "execution_count": 3,
   "id": "903652cb",
   "metadata": {
    "execution": {
     "iopub.execute_input": "2024-08-19T13:21:19.285958Z",
     "iopub.status.busy": "2024-08-19T13:21:19.285466Z",
     "iopub.status.idle": "2024-08-19T13:21:19.584797Z",
     "shell.execute_reply": "2024-08-19T13:21:19.583282Z"
    },
    "papermill": {
     "duration": 0.334543,
     "end_time": "2024-08-19T13:21:19.588279",
     "exception": false,
     "start_time": "2024-08-19T13:21:19.253736",
     "status": "completed"
    },
    "tags": []
   },
   "outputs": [],
   "source": [
    "train_df = pd.read_csv(\"/kaggle/input/crime-cast-forecasting-crime-categories/train.csv\")\n",
    "test_df = pd.read_csv(\"/kaggle/input/crime-cast-forecasting-crime-categories/test.csv\")"
   ]
  },
  {
   "cell_type": "code",
   "execution_count": 4,
   "id": "3ad0ea27",
   "metadata": {
    "execution": {
     "iopub.execute_input": "2024-08-19T13:21:19.650017Z",
     "iopub.status.busy": "2024-08-19T13:21:19.649517Z",
     "iopub.status.idle": "2024-08-19T13:21:19.659488Z",
     "shell.execute_reply": "2024-08-19T13:21:19.658101Z"
    },
    "papermill": {
     "duration": 0.04393,
     "end_time": "2024-08-19T13:21:19.662947",
     "exception": false,
     "start_time": "2024-08-19T13:21:19.619017",
     "status": "completed"
    },
    "tags": []
   },
   "outputs": [
    {
     "data": {
      "text/plain": [
       "((20000, 22), (5000, 21))"
      ]
     },
     "execution_count": 4,
     "metadata": {},
     "output_type": "execute_result"
    }
   ],
   "source": [
    "train_df.shape, test_df.shape"
   ]
  },
  {
   "cell_type": "markdown",
   "id": "e9d541c5",
   "metadata": {
    "papermill": {
     "duration": 0.027676,
     "end_time": "2024-08-19T13:21:19.719449",
     "exception": false,
     "start_time": "2024-08-19T13:21:19.691773",
     "status": "completed"
    },
    "tags": []
   },
   "source": [
    "# EDA"
   ]
  },
  {
   "cell_type": "markdown",
   "id": "cfd5bf7b",
   "metadata": {
    "papermill": {
     "duration": 0.028361,
     "end_time": "2024-08-19T13:21:19.776105",
     "exception": false,
     "start_time": "2024-08-19T13:21:19.747744",
     "status": "completed"
    },
    "tags": []
   },
   "source": [
    "## Dataset Information"
   ]
  },
  {
   "cell_type": "code",
   "execution_count": 5,
   "id": "5b78ba9b",
   "metadata": {
    "execution": {
     "iopub.execute_input": "2024-08-19T13:21:19.837002Z",
     "iopub.status.busy": "2024-08-19T13:21:19.836486Z",
     "iopub.status.idle": "2024-08-19T13:21:19.844792Z",
     "shell.execute_reply": "2024-08-19T13:21:19.843416Z"
    },
    "papermill": {
     "duration": 0.043672,
     "end_time": "2024-08-19T13:21:19.848295",
     "exception": false,
     "start_time": "2024-08-19T13:21:19.804623",
     "status": "completed"
    },
    "tags": []
   },
   "outputs": [
    {
     "name": "stdout",
     "output_type": "stream",
     "text": [
      "Number of rows in the training data:  20000\n",
      "Number of columns in the training data:  22\n",
      "Number of rows in the testing data:  5000\n",
      "Number of columns in the testing data:  21\n"
     ]
    }
   ],
   "source": [
    "print(\"Number of rows in the training data: \", train_df.shape[0])\n",
    "print(\"Number of columns in the training data: \", train_df.shape[1])\n",
    "\n",
    "print(\"Number of rows in the testing data: \", test_df.shape[0])\n",
    "print(\"Number of columns in the testing data: \", test_df.shape[1])"
   ]
  },
  {
   "cell_type": "code",
   "execution_count": 6,
   "id": "52af35bc",
   "metadata": {
    "execution": {
     "iopub.execute_input": "2024-08-19T13:21:19.911790Z",
     "iopub.status.busy": "2024-08-19T13:21:19.911257Z",
     "iopub.status.idle": "2024-08-19T13:21:19.965606Z",
     "shell.execute_reply": "2024-08-19T13:21:19.964269Z"
    },
    "papermill": {
     "duration": 0.089368,
     "end_time": "2024-08-19T13:21:19.968385",
     "exception": false,
     "start_time": "2024-08-19T13:21:19.879017",
     "status": "completed"
    },
    "tags": []
   },
   "outputs": [
    {
     "data": {
      "text/html": [
       "<div>\n",
       "<style scoped>\n",
       "    .dataframe tbody tr th:only-of-type {\n",
       "        vertical-align: middle;\n",
       "    }\n",
       "\n",
       "    .dataframe tbody tr th {\n",
       "        vertical-align: top;\n",
       "    }\n",
       "\n",
       "    .dataframe thead th {\n",
       "        text-align: right;\n",
       "    }\n",
       "</style>\n",
       "<table border=\"1\" class=\"dataframe\">\n",
       "  <thead>\n",
       "    <tr style=\"text-align: right;\">\n",
       "      <th></th>\n",
       "      <th>Location</th>\n",
       "      <th>Cross_Street</th>\n",
       "      <th>Latitude</th>\n",
       "      <th>Longitude</th>\n",
       "      <th>Date_Reported</th>\n",
       "      <th>Date_Occurred</th>\n",
       "      <th>Time_Occurred</th>\n",
       "      <th>Area_ID</th>\n",
       "      <th>Area_Name</th>\n",
       "      <th>Reporting_District_no</th>\n",
       "      <th>...</th>\n",
       "      <th>Victim_Age</th>\n",
       "      <th>Victim_Sex</th>\n",
       "      <th>Victim_Descent</th>\n",
       "      <th>Premise_Code</th>\n",
       "      <th>Premise_Description</th>\n",
       "      <th>Weapon_Used_Code</th>\n",
       "      <th>Weapon_Description</th>\n",
       "      <th>Status</th>\n",
       "      <th>Status_Description</th>\n",
       "      <th>Crime_Category</th>\n",
       "    </tr>\n",
       "  </thead>\n",
       "  <tbody>\n",
       "    <tr>\n",
       "      <th>0</th>\n",
       "      <td>4500    CARPENTER                    AV</td>\n",
       "      <td>NaN</td>\n",
       "      <td>34.1522</td>\n",
       "      <td>-118.3910</td>\n",
       "      <td>03/09/2020 12:00:00 AM</td>\n",
       "      <td>03/06/2020 12:00:00 AM</td>\n",
       "      <td>1800.0</td>\n",
       "      <td>15.0</td>\n",
       "      <td>N Hollywood</td>\n",
       "      <td>1563.0</td>\n",
       "      <td>...</td>\n",
       "      <td>75.0</td>\n",
       "      <td>M</td>\n",
       "      <td>W</td>\n",
       "      <td>101.0</td>\n",
       "      <td>STREET</td>\n",
       "      <td>NaN</td>\n",
       "      <td>NaN</td>\n",
       "      <td>IC</td>\n",
       "      <td>Invest Cont</td>\n",
       "      <td>Property Crimes</td>\n",
       "    </tr>\n",
       "    <tr>\n",
       "      <th>1</th>\n",
       "      <td>45TH                         ST</td>\n",
       "      <td>ALAMEDA                      ST</td>\n",
       "      <td>34.0028</td>\n",
       "      <td>-118.2391</td>\n",
       "      <td>02/27/2020 12:00:00 AM</td>\n",
       "      <td>02/27/2020 12:00:00 AM</td>\n",
       "      <td>1345.0</td>\n",
       "      <td>13.0</td>\n",
       "      <td>Newton</td>\n",
       "      <td>1367.0</td>\n",
       "      <td>...</td>\n",
       "      <td>41.0</td>\n",
       "      <td>M</td>\n",
       "      <td>H</td>\n",
       "      <td>216.0</td>\n",
       "      <td>SWAP MEET</td>\n",
       "      <td>400.0</td>\n",
       "      <td>STRONG-ARM (HANDS, FIST, FEET OR BODILY FORCE)</td>\n",
       "      <td>IC</td>\n",
       "      <td>Invest Cont</td>\n",
       "      <td>Property Crimes</td>\n",
       "    </tr>\n",
       "    <tr>\n",
       "      <th>2</th>\n",
       "      <td>600 E  MARTIN LUTHER KING JR        BL</td>\n",
       "      <td>NaN</td>\n",
       "      <td>34.0111</td>\n",
       "      <td>-118.2653</td>\n",
       "      <td>08/21/2020 12:00:00 AM</td>\n",
       "      <td>08/21/2020 12:00:00 AM</td>\n",
       "      <td>605.0</td>\n",
       "      <td>13.0</td>\n",
       "      <td>Newton</td>\n",
       "      <td>1343.0</td>\n",
       "      <td>...</td>\n",
       "      <td>67.0</td>\n",
       "      <td>M</td>\n",
       "      <td>B</td>\n",
       "      <td>501.0</td>\n",
       "      <td>SINGLE FAMILY DWELLING</td>\n",
       "      <td>NaN</td>\n",
       "      <td>NaN</td>\n",
       "      <td>IC</td>\n",
       "      <td>Invest Cont</td>\n",
       "      <td>Property Crimes</td>\n",
       "    </tr>\n",
       "    <tr>\n",
       "      <th>3</th>\n",
       "      <td>14900    ORO GRANDE                   ST</td>\n",
       "      <td>NaN</td>\n",
       "      <td>34.2953</td>\n",
       "      <td>-118.4590</td>\n",
       "      <td>11/08/2020 12:00:00 AM</td>\n",
       "      <td>11/06/2020 12:00:00 AM</td>\n",
       "      <td>1800.0</td>\n",
       "      <td>19.0</td>\n",
       "      <td>Mission</td>\n",
       "      <td>1924.0</td>\n",
       "      <td>...</td>\n",
       "      <td>61.0</td>\n",
       "      <td>M</td>\n",
       "      <td>H</td>\n",
       "      <td>101.0</td>\n",
       "      <td>STREET</td>\n",
       "      <td>NaN</td>\n",
       "      <td>NaN</td>\n",
       "      <td>IC</td>\n",
       "      <td>Invest Cont</td>\n",
       "      <td>Property Crimes</td>\n",
       "    </tr>\n",
       "    <tr>\n",
       "      <th>4</th>\n",
       "      <td>7100 S  VERMONT                      AV</td>\n",
       "      <td>NaN</td>\n",
       "      <td>33.9787</td>\n",
       "      <td>-118.2918</td>\n",
       "      <td>02/25/2020 12:00:00 AM</td>\n",
       "      <td>02/25/2020 12:00:00 AM</td>\n",
       "      <td>1130.0</td>\n",
       "      <td>12.0</td>\n",
       "      <td>77th Street</td>\n",
       "      <td>1245.0</td>\n",
       "      <td>...</td>\n",
       "      <td>0.0</td>\n",
       "      <td>X</td>\n",
       "      <td>X</td>\n",
       "      <td>401.0</td>\n",
       "      <td>MINI-MART</td>\n",
       "      <td>400.0</td>\n",
       "      <td>STRONG-ARM (HANDS, FIST, FEET OR BODILY FORCE)</td>\n",
       "      <td>IC</td>\n",
       "      <td>Invest Cont</td>\n",
       "      <td>Property Crimes</td>\n",
       "    </tr>\n",
       "  </tbody>\n",
       "</table>\n",
       "<p>5 rows × 22 columns</p>\n",
       "</div>"
      ],
      "text/plain": [
       "                                   Location                     Cross_Street  \\\n",
       "0   4500    CARPENTER                    AV                              NaN   \n",
       "1           45TH                         ST  ALAMEDA                      ST   \n",
       "2    600 E  MARTIN LUTHER KING JR        BL                              NaN   \n",
       "3  14900    ORO GRANDE                   ST                              NaN   \n",
       "4   7100 S  VERMONT                      AV                              NaN   \n",
       "\n",
       "   Latitude  Longitude           Date_Reported           Date_Occurred  \\\n",
       "0   34.1522  -118.3910  03/09/2020 12:00:00 AM  03/06/2020 12:00:00 AM   \n",
       "1   34.0028  -118.2391  02/27/2020 12:00:00 AM  02/27/2020 12:00:00 AM   \n",
       "2   34.0111  -118.2653  08/21/2020 12:00:00 AM  08/21/2020 12:00:00 AM   \n",
       "3   34.2953  -118.4590  11/08/2020 12:00:00 AM  11/06/2020 12:00:00 AM   \n",
       "4   33.9787  -118.2918  02/25/2020 12:00:00 AM  02/25/2020 12:00:00 AM   \n",
       "\n",
       "   Time_Occurred  Area_ID    Area_Name  Reporting_District_no  ...  \\\n",
       "0         1800.0     15.0  N Hollywood                 1563.0  ...   \n",
       "1         1345.0     13.0       Newton                 1367.0  ...   \n",
       "2          605.0     13.0       Newton                 1343.0  ...   \n",
       "3         1800.0     19.0      Mission                 1924.0  ...   \n",
       "4         1130.0     12.0  77th Street                 1245.0  ...   \n",
       "\n",
       "   Victim_Age Victim_Sex  Victim_Descent Premise_Code     Premise_Description  \\\n",
       "0        75.0          M               W        101.0                  STREET   \n",
       "1        41.0          M               H        216.0               SWAP MEET   \n",
       "2        67.0          M               B        501.0  SINGLE FAMILY DWELLING   \n",
       "3        61.0          M               H        101.0                  STREET   \n",
       "4         0.0          X               X        401.0               MINI-MART   \n",
       "\n",
       "   Weapon_Used_Code                              Weapon_Description  Status  \\\n",
       "0               NaN                                             NaN      IC   \n",
       "1             400.0  STRONG-ARM (HANDS, FIST, FEET OR BODILY FORCE)      IC   \n",
       "2               NaN                                             NaN      IC   \n",
       "3               NaN                                             NaN      IC   \n",
       "4             400.0  STRONG-ARM (HANDS, FIST, FEET OR BODILY FORCE)      IC   \n",
       "\n",
       "  Status_Description   Crime_Category  \n",
       "0        Invest Cont  Property Crimes  \n",
       "1        Invest Cont  Property Crimes  \n",
       "2        Invest Cont  Property Crimes  \n",
       "3        Invest Cont  Property Crimes  \n",
       "4        Invest Cont  Property Crimes  \n",
       "\n",
       "[5 rows x 22 columns]"
      ]
     },
     "execution_count": 6,
     "metadata": {},
     "output_type": "execute_result"
    }
   ],
   "source": [
    "# Head of the training data\n",
    "train_df.head()"
   ]
  },
  {
   "cell_type": "markdown",
   "id": "f813a75c",
   "metadata": {
    "papermill": {
     "duration": 0.029853,
     "end_time": "2024-08-19T13:21:20.027835",
     "exception": false,
     "start_time": "2024-08-19T13:21:19.997982",
     "status": "completed"
    },
    "tags": []
   },
   "source": [
    "#### We can observe that 'Latitude' and 'Longitude' represent the same thing as 'Location'.\n",
    "#### 'Area_ID', 'Premise_Code', 'Weapon_Used_Code', 'Status' also represent the same thing as 'Area_Name', 'Premise_Description', 'Weapon_Description', 'Status_Description'"
   ]
  },
  {
   "cell_type": "code",
   "execution_count": 7,
   "id": "58067adc",
   "metadata": {
    "execution": {
     "iopub.execute_input": "2024-08-19T13:21:20.186390Z",
     "iopub.status.busy": "2024-08-19T13:21:20.185860Z",
     "iopub.status.idle": "2024-08-19T13:21:20.194697Z",
     "shell.execute_reply": "2024-08-19T13:21:20.193347Z"
    },
    "papermill": {
     "duration": 0.139582,
     "end_time": "2024-08-19T13:21:20.197420",
     "exception": false,
     "start_time": "2024-08-19T13:21:20.057838",
     "status": "completed"
    },
    "tags": []
   },
   "outputs": [
    {
     "data": {
      "text/plain": [
       "Index(['Location', 'Cross_Street', 'Latitude', 'Longitude', 'Date_Reported',\n",
       "       'Date_Occurred', 'Time_Occurred', 'Area_ID', 'Area_Name',\n",
       "       'Reporting_District_no', 'Part 1-2', 'Modus_Operandi', 'Victim_Age',\n",
       "       'Victim_Sex', 'Victim_Descent', 'Premise_Code', 'Premise_Description',\n",
       "       'Weapon_Used_Code', 'Weapon_Description', 'Status',\n",
       "       'Status_Description', 'Crime_Category'],\n",
       "      dtype='object')"
      ]
     },
     "execution_count": 7,
     "metadata": {},
     "output_type": "execute_result"
    }
   ],
   "source": [
    "# All columns in the training dataset\n",
    "train_df.columns"
   ]
  },
  {
   "cell_type": "code",
   "execution_count": 8,
   "id": "964af690",
   "metadata": {
    "execution": {
     "iopub.execute_input": "2024-08-19T13:21:20.257943Z",
     "iopub.status.busy": "2024-08-19T13:21:20.257534Z",
     "iopub.status.idle": "2024-08-19T13:21:20.268168Z",
     "shell.execute_reply": "2024-08-19T13:21:20.266844Z"
    },
    "papermill": {
     "duration": 0.044273,
     "end_time": "2024-08-19T13:21:20.271226",
     "exception": false,
     "start_time": "2024-08-19T13:21:20.226953",
     "status": "completed"
    },
    "tags": []
   },
   "outputs": [
    {
     "data": {
      "text/plain": [
       "Location                  object\n",
       "Cross_Street              object\n",
       "Latitude                 float64\n",
       "Longitude                float64\n",
       "Date_Reported             object\n",
       "Date_Occurred             object\n",
       "Time_Occurred            float64\n",
       "Area_ID                  float64\n",
       "Area_Name                 object\n",
       "Reporting_District_no    float64\n",
       "Part 1-2                 float64\n",
       "Modus_Operandi            object\n",
       "Victim_Age               float64\n",
       "Victim_Sex                object\n",
       "Victim_Descent            object\n",
       "Premise_Code             float64\n",
       "Premise_Description       object\n",
       "Weapon_Used_Code         float64\n",
       "Weapon_Description        object\n",
       "Status                    object\n",
       "Status_Description        object\n",
       "Crime_Category            object\n",
       "dtype: object"
      ]
     },
     "execution_count": 8,
     "metadata": {},
     "output_type": "execute_result"
    }
   ],
   "source": [
    "# Data Types of each column in the training dataset:\n",
    "\n",
    "train_df.dtypes"
   ]
  },
  {
   "cell_type": "code",
   "execution_count": 9,
   "id": "7bf03b7e",
   "metadata": {
    "execution": {
     "iopub.execute_input": "2024-08-19T13:21:20.332202Z",
     "iopub.status.busy": "2024-08-19T13:21:20.331682Z",
     "iopub.status.idle": "2024-08-19T13:21:20.371050Z",
     "shell.execute_reply": "2024-08-19T13:21:20.369515Z"
    },
    "papermill": {
     "duration": 0.073927,
     "end_time": "2024-08-19T13:21:20.374637",
     "exception": false,
     "start_time": "2024-08-19T13:21:20.300710",
     "status": "completed"
    },
    "tags": []
   },
   "outputs": [
    {
     "data": {
      "text/plain": [
       "Location                     0\n",
       "Cross_Street             16552\n",
       "Latitude                     0\n",
       "Longitude                    0\n",
       "Date_Reported                0\n",
       "Date_Occurred                0\n",
       "Time_Occurred                0\n",
       "Area_ID                      0\n",
       "Area_Name                    0\n",
       "Reporting_District_no        0\n",
       "Part 1-2                     0\n",
       "Modus_Operandi            2741\n",
       "Victim_Age                   0\n",
       "Victim_Sex                2624\n",
       "Victim_Descent            2624\n",
       "Premise_Code                 0\n",
       "Premise_Description          5\n",
       "Weapon_Used_Code         12665\n",
       "Weapon_Description       12665\n",
       "Status                       0\n",
       "Status_Description           0\n",
       "Crime_Category               0\n",
       "dtype: int64"
      ]
     },
     "execution_count": 9,
     "metadata": {},
     "output_type": "execute_result"
    }
   ],
   "source": [
    "# Total number of null values present in each feature\n",
    "\n",
    "train_df.isna().sum()"
   ]
  },
  {
   "cell_type": "code",
   "execution_count": 10,
   "id": "77d2b1b5",
   "metadata": {
    "execution": {
     "iopub.execute_input": "2024-08-19T13:21:20.437279Z",
     "iopub.status.busy": "2024-08-19T13:21:20.436769Z",
     "iopub.status.idle": "2024-08-19T13:21:20.493388Z",
     "shell.execute_reply": "2024-08-19T13:21:20.491836Z"
    },
    "papermill": {
     "duration": 0.091953,
     "end_time": "2024-08-19T13:21:20.496491",
     "exception": false,
     "start_time": "2024-08-19T13:21:20.404538",
     "status": "completed"
    },
    "tags": []
   },
   "outputs": [
    {
     "data": {
      "text/html": [
       "<div>\n",
       "<style scoped>\n",
       "    .dataframe tbody tr th:only-of-type {\n",
       "        vertical-align: middle;\n",
       "    }\n",
       "\n",
       "    .dataframe tbody tr th {\n",
       "        vertical-align: top;\n",
       "    }\n",
       "\n",
       "    .dataframe thead th {\n",
       "        text-align: right;\n",
       "    }\n",
       "</style>\n",
       "<table border=\"1\" class=\"dataframe\">\n",
       "  <thead>\n",
       "    <tr style=\"text-align: right;\">\n",
       "      <th></th>\n",
       "      <th>Latitude</th>\n",
       "      <th>Longitude</th>\n",
       "      <th>Time_Occurred</th>\n",
       "      <th>Area_ID</th>\n",
       "      <th>Reporting_District_no</th>\n",
       "      <th>Part 1-2</th>\n",
       "      <th>Victim_Age</th>\n",
       "      <th>Premise_Code</th>\n",
       "      <th>Weapon_Used_Code</th>\n",
       "    </tr>\n",
       "  </thead>\n",
       "  <tbody>\n",
       "    <tr>\n",
       "      <th>count</th>\n",
       "      <td>20000.000000</td>\n",
       "      <td>20000.000000</td>\n",
       "      <td>20000.000000</td>\n",
       "      <td>20000.000000</td>\n",
       "      <td>20000.000000</td>\n",
       "      <td>20000.000000</td>\n",
       "      <td>20000.000000</td>\n",
       "      <td>20000.000000</td>\n",
       "      <td>7335.000000</td>\n",
       "    </tr>\n",
       "    <tr>\n",
       "      <th>mean</th>\n",
       "      <td>33.940704</td>\n",
       "      <td>-117.893072</td>\n",
       "      <td>1352.380350</td>\n",
       "      <td>10.834250</td>\n",
       "      <td>1129.599200</td>\n",
       "      <td>1.418150</td>\n",
       "      <td>30.135000</td>\n",
       "      <td>297.176950</td>\n",
       "      <td>366.405044</td>\n",
       "    </tr>\n",
       "    <tr>\n",
       "      <th>std</th>\n",
       "      <td>2.126810</td>\n",
       "      <td>7.377726</td>\n",
       "      <td>646.100291</td>\n",
       "      <td>6.033166</td>\n",
       "      <td>603.330519</td>\n",
       "      <td>0.493267</td>\n",
       "      <td>21.863645</td>\n",
       "      <td>212.007298</td>\n",
       "      <td>120.485687</td>\n",
       "    </tr>\n",
       "    <tr>\n",
       "      <th>min</th>\n",
       "      <td>0.000000</td>\n",
       "      <td>-118.663400</td>\n",
       "      <td>1.000000</td>\n",
       "      <td>1.000000</td>\n",
       "      <td>101.000000</td>\n",
       "      <td>1.000000</td>\n",
       "      <td>-2.000000</td>\n",
       "      <td>101.000000</td>\n",
       "      <td>101.000000</td>\n",
       "    </tr>\n",
       "    <tr>\n",
       "      <th>25%</th>\n",
       "      <td>34.009200</td>\n",
       "      <td>-118.429700</td>\n",
       "      <td>930.000000</td>\n",
       "      <td>6.000000</td>\n",
       "      <td>632.000000</td>\n",
       "      <td>1.000000</td>\n",
       "      <td>12.000000</td>\n",
       "      <td>101.000000</td>\n",
       "      <td>312.000000</td>\n",
       "    </tr>\n",
       "    <tr>\n",
       "      <th>50%</th>\n",
       "      <td>34.058700</td>\n",
       "      <td>-118.323000</td>\n",
       "      <td>1430.000000</td>\n",
       "      <td>11.000000</td>\n",
       "      <td>1162.000000</td>\n",
       "      <td>1.000000</td>\n",
       "      <td>31.000000</td>\n",
       "      <td>203.000000</td>\n",
       "      <td>400.000000</td>\n",
       "    </tr>\n",
       "    <tr>\n",
       "      <th>75%</th>\n",
       "      <td>34.165025</td>\n",
       "      <td>-118.274400</td>\n",
       "      <td>1900.000000</td>\n",
       "      <td>16.000000</td>\n",
       "      <td>1622.000000</td>\n",
       "      <td>2.000000</td>\n",
       "      <td>46.000000</td>\n",
       "      <td>501.000000</td>\n",
       "      <td>400.000000</td>\n",
       "    </tr>\n",
       "    <tr>\n",
       "      <th>max</th>\n",
       "      <td>34.328100</td>\n",
       "      <td>0.000000</td>\n",
       "      <td>2359.000000</td>\n",
       "      <td>21.000000</td>\n",
       "      <td>2197.000000</td>\n",
       "      <td>2.000000</td>\n",
       "      <td>99.000000</td>\n",
       "      <td>969.000000</td>\n",
       "      <td>515.000000</td>\n",
       "    </tr>\n",
       "  </tbody>\n",
       "</table>\n",
       "</div>"
      ],
      "text/plain": [
       "           Latitude     Longitude  Time_Occurred       Area_ID  \\\n",
       "count  20000.000000  20000.000000   20000.000000  20000.000000   \n",
       "mean      33.940704   -117.893072    1352.380350     10.834250   \n",
       "std        2.126810      7.377726     646.100291      6.033166   \n",
       "min        0.000000   -118.663400       1.000000      1.000000   \n",
       "25%       34.009200   -118.429700     930.000000      6.000000   \n",
       "50%       34.058700   -118.323000    1430.000000     11.000000   \n",
       "75%       34.165025   -118.274400    1900.000000     16.000000   \n",
       "max       34.328100      0.000000    2359.000000     21.000000   \n",
       "\n",
       "       Reporting_District_no      Part 1-2    Victim_Age  Premise_Code  \\\n",
       "count           20000.000000  20000.000000  20000.000000  20000.000000   \n",
       "mean             1129.599200      1.418150     30.135000    297.176950   \n",
       "std               603.330519      0.493267     21.863645    212.007298   \n",
       "min               101.000000      1.000000     -2.000000    101.000000   \n",
       "25%               632.000000      1.000000     12.000000    101.000000   \n",
       "50%              1162.000000      1.000000     31.000000    203.000000   \n",
       "75%              1622.000000      2.000000     46.000000    501.000000   \n",
       "max              2197.000000      2.000000     99.000000    969.000000   \n",
       "\n",
       "       Weapon_Used_Code  \n",
       "count       7335.000000  \n",
       "mean         366.405044  \n",
       "std          120.485687  \n",
       "min          101.000000  \n",
       "25%          312.000000  \n",
       "50%          400.000000  \n",
       "75%          400.000000  \n",
       "max          515.000000  "
      ]
     },
     "execution_count": 10,
     "metadata": {},
     "output_type": "execute_result"
    }
   ],
   "source": [
    "# Visualising key statistics:\n",
    "\n",
    "train_df.describe()"
   ]
  },
  {
   "cell_type": "markdown",
   "id": "eeec7ccd",
   "metadata": {
    "papermill": {
     "duration": 0.029468,
     "end_time": "2024-08-19T13:21:20.555439",
     "exception": false,
     "start_time": "2024-08-19T13:21:20.525971",
     "status": "completed"
    },
    "tags": []
   },
   "source": [
    "## Correlation-Heatmap"
   ]
  },
  {
   "cell_type": "code",
   "execution_count": 11,
   "id": "2c1003be",
   "metadata": {
    "execution": {
     "iopub.execute_input": "2024-08-19T13:21:20.617873Z",
     "iopub.status.busy": "2024-08-19T13:21:20.617222Z",
     "iopub.status.idle": "2024-08-19T13:21:21.465923Z",
     "shell.execute_reply": "2024-08-19T13:21:21.464594Z"
    },
    "papermill": {
     "duration": 0.88443,
     "end_time": "2024-08-19T13:21:21.469831",
     "exception": false,
     "start_time": "2024-08-19T13:21:20.585401",
     "status": "completed"
    },
    "tags": []
   },
   "outputs": [
    {
     "data": {
      "image/png": "[encoded data removed]",
      "text/plain": [
       "<Figure size 1200x1000 with 2 Axes>"
      ]
     },
     "metadata": {},
     "output_type": "display_data"
    }
   ],
   "source": [
    "# List of numerical columns\n",
    "numerical_cols = ['Latitude', 'Longitude', 'Time_Occurred', 'Area_ID', 'Part 1-2', 'Victim_Age', 'Premise_Code', 'Weapon_Used_Code']\n",
    "\n",
    "# Select only numerical columns from the DataFrame\n",
    "numerical_df = train_df[numerical_cols]\n",
    "\n",
    "# Calculate the correlation matrix for numerical columns\n",
    "corr = numerical_df.corr()\n",
    "\n",
    "# Set up the matplotlib figure\n",
    "plt.figure(figsize=(12, 10))\n",
    "\n",
    "# Draw the heatmap\n",
    "sns.heatmap(\n",
    "    corr,\n",
    "    annot=True,\n",
    "    cmap='viridis',\n",
    "    fmt='.2f',\n",
    "    linewidths=0.5,\n",
    "    vmin=-1,\n",
    "    vmax=1,\n",
    "    cbar_kws={'shrink': .8},\n",
    "    square=True,\n",
    "    annot_kws={\"size\": 10, \"color\": 'black'}\n",
    ")\n",
    "\n",
    "# Set the title fontsize and fontweight\n",
    "plt.title('Correlation Heatmap for Numerical Columns', fontsize=16, fontweight='bold')\n",
    "\n",
    "# Remove axes labels and ticks\n",
    "plt.xticks(rotation=45, ha='right')\n",
    "plt.yticks(rotation=0)\n",
    "\n",
    "# plot the graph\n",
    "plt.tight_layout()\n",
    "plt.show()"
   ]
  },
  {
   "cell_type": "markdown",
   "id": "39ec41c9",
   "metadata": {
    "papermill": {
     "duration": 0.032435,
     "end_time": "2024-08-19T13:21:21.535214",
     "exception": false,
     "start_time": "2024-08-19T13:21:21.502779",
     "status": "completed"
    },
    "tags": []
   },
   "source": [
    "#### As we can observe here there isn't much correlation between features here."
   ]
  },
  {
   "cell_type": "markdown",
   "id": "1afc9099",
   "metadata": {
    "papermill": {
     "duration": 0.031871,
     "end_time": "2024-08-19T13:21:21.598816",
     "exception": false,
     "start_time": "2024-08-19T13:21:21.566945",
     "status": "completed"
    },
    "tags": []
   },
   "source": [
    "## Distribution of 'Crime_Category'"
   ]
  },
  {
   "cell_type": "code",
   "execution_count": 12,
   "id": "cd05beae",
   "metadata": {
    "execution": {
     "iopub.execute_input": "2024-08-19T13:21:21.667990Z",
     "iopub.status.busy": "2024-08-19T13:21:21.667491Z",
     "iopub.status.idle": "2024-08-19T13:21:22.027973Z",
     "shell.execute_reply": "2024-08-19T13:21:22.026532Z"
    },
    "papermill": {
     "duration": 0.397678,
     "end_time": "2024-08-19T13:21:22.031060",
     "exception": false,
     "start_time": "2024-08-19T13:21:21.633382",
     "status": "completed"
    },
    "tags": []
   },
   "outputs": [
    {
     "data": {
      "image/png": "[encoded data removed]",
      "text/plain": [
       "<Figure size 1200x600 with 1 Axes>"
      ]
     },
     "metadata": {},
     "output_type": "display_data"
    }
   ],
   "source": [
    "plt.figure(figsize=(12, 6)) \n",
    "sns.countplot(data=train_df, x='Crime_Category')\n",
    "plt.title('Distribution of Crime Category')\n",
    "plt.xticks(rotation=45)  # Rotate x-axis labels\n",
    "plt.xlabel('Crime Category')  # Set x-axis label\n",
    "plt.ylabel('Count')  # Set y-axis label\n",
    "plt.tight_layout()  # Adjust layout to fit labels\n",
    "plt.show()"
   ]
  },
  {
   "cell_type": "markdown",
   "id": "490ff77f",
   "metadata": {
    "papermill": {
     "duration": 0.03267,
     "end_time": "2024-08-19T13:21:22.096306",
     "exception": false,
     "start_time": "2024-08-19T13:21:22.063636",
     "status": "completed"
    },
    "tags": []
   },
   "source": [
    "#### The target vector 'Crime_Category' has lot of Property Crimes followed by Violent crimes majorly compared to the other crimes."
   ]
  },
  {
   "cell_type": "code",
   "execution_count": 13,
   "id": "8d52479f",
   "metadata": {
    "execution": {
     "iopub.execute_input": "2024-08-19T13:21:22.162746Z",
     "iopub.status.busy": "2024-08-19T13:21:22.162257Z",
     "iopub.status.idle": "2024-08-19T13:21:22.651822Z",
     "shell.execute_reply": "2024-08-19T13:21:22.650566Z"
    },
    "papermill": {
     "duration": 0.526643,
     "end_time": "2024-08-19T13:21:22.655084",
     "exception": false,
     "start_time": "2024-08-19T13:21:22.128441",
     "status": "completed"
    },
    "tags": []
   },
   "outputs": [
    {
     "data": {
      "image/png": "[encoded data removed]",
      "text/plain": [
       "<Figure size 1200x600 with 1 Axes>"
      ]
     },
     "metadata": {},
     "output_type": "display_data"
    }
   ],
   "source": [
    "plt.figure(figsize=(12, 6))\n",
    "sns.boxplot(data=train_df, x='Crime_Category', y='Victim_Age', palette='Set2')\n",
    "plt.title('Victim Age by Crime Category')\n",
    "plt.xticks(rotation=45)\n",
    "plt.xlabel('Crime Category')\n",
    "plt.ylabel('Victim Age')\n",
    "plt.tight_layout()\n",
    "plt.show()"
   ]
  },
  {
   "cell_type": "markdown",
   "id": "7595f49e",
   "metadata": {
    "papermill": {
     "duration": 0.033258,
     "end_time": "2024-08-19T13:21:22.723155",
     "exception": false,
     "start_time": "2024-08-19T13:21:22.689897",
     "status": "completed"
    },
    "tags": []
   },
   "source": [
    "#### We can observe key statistics like median, range, etc.. of each 'Crime_Category' from the above box plots."
   ]
  },
  {
   "cell_type": "markdown",
   "id": "751054a9",
   "metadata": {
    "papermill": {
     "duration": 0.033772,
     "end_time": "2024-08-19T13:21:22.791495",
     "exception": false,
     "start_time": "2024-08-19T13:21:22.757723",
     "status": "completed"
    },
    "tags": []
   },
   "source": [
    "## Visualising Missing Values"
   ]
  },
  {
   "cell_type": "code",
   "execution_count": 14,
   "id": "fa0ff556",
   "metadata": {
    "execution": {
     "iopub.execute_input": "2024-08-19T13:21:22.861264Z",
     "iopub.status.busy": "2024-08-19T13:21:22.859956Z",
     "iopub.status.idle": "2024-08-19T13:21:24.178801Z",
     "shell.execute_reply": "2024-08-19T13:21:24.177576Z"
    },
    "papermill": {
     "duration": 1.356833,
     "end_time": "2024-08-19T13:21:24.181701",
     "exception": false,
     "start_time": "2024-08-19T13:21:22.824868",
     "status": "completed"
    },
    "tags": []
   },
   "outputs": [
    {
     "data": {
      "image/png": "[encoded data removed]",
      "text/plain": [
       "<Figure size 1200x600 with 1 Axes>"
      ]
     },
     "metadata": {},
     "output_type": "display_data"
    }
   ],
   "source": [
    "plt.figure(figsize=(12, 6))\n",
    "sns.heatmap(train_df.isnull(), cbar=False, cmap='Oranges', vmin=0, vmax=1)\n",
    "plt.title('Missing Values in Training Data')\n",
    "plt.xlabel('Features')\n",
    "plt.ylabel('Data Points')\n",
    "plt.tight_layout()\n",
    "plt.show()"
   ]
  },
  {
   "cell_type": "markdown",
   "id": "d3f3afff",
   "metadata": {
    "papermill": {
     "duration": 0.034281,
     "end_time": "2024-08-19T13:21:24.250561",
     "exception": false,
     "start_time": "2024-08-19T13:21:24.216280",
     "status": "completed"
    },
    "tags": []
   },
   "source": [
    "#### We can observe from missing values graphical representation that a lot of Cross_Street values are missing.\n",
    "#### We can also observe from a quick glance that wherever Modus_Operandi is missing, Victim_Sex and Victim_Descent are also misisng.\n",
    "\n",
    "#### Lot of 'Weapon_Used_Code' values are also missing. It might indicate crimes in which no weapon is involved or the weapon involved is not recorded."
   ]
  },
  {
   "cell_type": "markdown",
   "id": "169ed2bb",
   "metadata": {
    "papermill": {
     "duration": 0.035136,
     "end_time": "2024-08-19T13:21:24.321380",
     "exception": false,
     "start_time": "2024-08-19T13:21:24.286244",
     "status": "completed"
    },
    "tags": []
   },
   "source": [
    "## Distribution of 'Victim_Age'"
   ]
  },
  {
   "cell_type": "code",
   "execution_count": 15,
   "id": "9c1e1c47",
   "metadata": {
    "execution": {
     "iopub.execute_input": "2024-08-19T13:21:24.392241Z",
     "iopub.status.busy": "2024-08-19T13:21:24.391738Z",
     "iopub.status.idle": "2024-08-19T13:21:25.119348Z",
     "shell.execute_reply": "2024-08-19T13:21:25.117770Z"
    },
    "papermill": {
     "duration": 0.766533,
     "end_time": "2024-08-19T13:21:25.122344",
     "exception": false,
     "start_time": "2024-08-19T13:21:24.355811",
     "status": "completed"
    },
    "tags": []
   },
   "outputs": [
    {
     "name": "stderr",
     "output_type": "stream",
     "text": [
      "/opt/conda/lib/python3.10/site-packages/seaborn/_oldcore.py:1119: FutureWarning: use_inf_as_na option is deprecated and will be removed in a future version. Convert inf values to NaN before operating instead.\n",
      "  with pd.option_context('mode.use_inf_as_na', True):\n"
     ]
    },
    {
     "data": {
      "image/png": "[encoded data removed]",
      "text/plain": [
       "<Figure size 1200x600 with 1 Axes>"
      ]
     },
     "metadata": {},
     "output_type": "display_data"
    }
   ],
   "source": [
    "plt.figure(figsize=(12, 6))\n",
    "sns.histplot(train_df['Victim_Age'].dropna(), bins=30, kde=True)\n",
    "plt.title('Distribution of Victim Age')\n",
    "plt.xlabel('Age')\n",
    "plt.ylabel('Frequency')\n",
    "plt.tight_layout()\n",
    "plt.show()\n"
   ]
  },
  {
   "cell_type": "markdown",
   "id": "2ce424ae",
   "metadata": {
    "papermill": {
     "duration": 0.035928,
     "end_time": "2024-08-19T13:21:25.194341",
     "exception": false,
     "start_time": "2024-08-19T13:21:25.158413",
     "status": "completed"
    },
    "tags": []
   },
   "source": [
    "#### A lot of crimes tend to have 0 Age. So, either the crimes happen to infants or the Age is missing. As the proportion is lot higher we can assume the Age is missing for these rows.\n",
    "#### Right Skewed graph."
   ]
  },
  {
   "cell_type": "markdown",
   "id": "9e12a0b9",
   "metadata": {
    "papermill": {
     "duration": 0.035972,
     "end_time": "2024-08-19T13:21:25.266307",
     "exception": false,
     "start_time": "2024-08-19T13:21:25.230335",
     "status": "completed"
    },
    "tags": []
   },
   "source": [
    "## Visualising crimes by hour of the day"
   ]
  },
  {
   "cell_type": "code",
   "execution_count": 16,
   "id": "fcec02a3",
   "metadata": {
    "execution": {
     "iopub.execute_input": "2024-08-19T13:21:25.342778Z",
     "iopub.status.busy": "2024-08-19T13:21:25.342292Z",
     "iopub.status.idle": "2024-08-19T13:21:26.048768Z",
     "shell.execute_reply": "2024-08-19T13:21:26.047177Z"
    },
    "papermill": {
     "duration": 0.749611,
     "end_time": "2024-08-19T13:21:26.051819",
     "exception": false,
     "start_time": "2024-08-19T13:21:25.302208",
     "status": "completed"
    },
    "tags": []
   },
   "outputs": [
    {
     "name": "stderr",
     "output_type": "stream",
     "text": [
      "/opt/conda/lib/python3.10/site-packages/seaborn/_oldcore.py:1119: FutureWarning: use_inf_as_na option is deprecated and will be removed in a future version. Convert inf values to NaN before operating instead.\n",
      "  with pd.option_context('mode.use_inf_as_na', True):\n"
     ]
    },
    {
     "data": {
      "image/png": "[encoded data removed]",
      "text/plain": [
       "<Figure size 1200x600 with 1 Axes>"
      ]
     },
     "metadata": {},
     "output_type": "display_data"
    }
   ],
   "source": [
    "# Create a function to extract hours from the time format\n",
    "def extract_hour(time):\n",
    "    if pd.notna(time):\n",
    "        time_str = str(int(time)).zfill(4)  # Ensure 4-digit string format\n",
    "        return int(time_str[:2])  # Extract hour\n",
    "    return None\n",
    "\n",
    "# Use a temporary Series to avoid modifying the DataFrame\n",
    "hours = train_df['Time_Occurred'].apply(extract_hour)\n",
    "\n",
    "# Plot the histogram of hours\n",
    "plt.figure(figsize=(12, 6))\n",
    "sns.histplot(hours.dropna(), bins=24, kde=False, color='blue')\n",
    "plt.title('Crimes by Hour of Day')\n",
    "plt.xlabel('Hour of Day')\n",
    "plt.ylabel('Count')\n",
    "plt.xticks(range(0, 24))  # Ensure all hours are shown on x-axis\n",
    "plt.tight_layout()\n",
    "plt.show()\n"
   ]
  },
  {
   "cell_type": "markdown",
   "id": "41c69511",
   "metadata": {
    "papermill": {
     "duration": 0.037516,
     "end_time": "2024-08-19T13:21:26.126346",
     "exception": false,
     "start_time": "2024-08-19T13:21:26.088830",
     "status": "completed"
    },
    "tags": []
   },
   "source": [
    "#### We can observe that most of the crimes happen in the middle of the day.\n",
    "#### The graph is somewhat Left Skewed with most of the crimes happeing in the second half of the day."
   ]
  },
  {
   "cell_type": "markdown",
   "id": "d4a8bbd1",
   "metadata": {
    "papermill": {
     "duration": 0.037978,
     "end_time": "2024-08-19T13:21:26.202859",
     "exception": false,
     "start_time": "2024-08-19T13:21:26.164881",
     "status": "completed"
    },
    "tags": []
   },
   "source": [
    "# Preprocessing"
   ]
  },
  {
   "cell_type": "code",
   "execution_count": 17,
   "id": "b75c94d5",
   "metadata": {
    "execution": {
     "iopub.execute_input": "2024-08-19T13:21:26.280614Z",
     "iopub.status.busy": "2024-08-19T13:21:26.280127Z",
     "iopub.status.idle": "2024-08-19T13:21:26.290822Z",
     "shell.execute_reply": "2024-08-19T13:21:26.289635Z"
    },
    "papermill": {
     "duration": 0.054176,
     "end_time": "2024-08-19T13:21:26.293963",
     "exception": false,
     "start_time": "2024-08-19T13:21:26.239787",
     "status": "completed"
    },
    "tags": []
   },
   "outputs": [],
   "source": [
    "# Seperate the target vector from train_df for ease of preprocessing\n",
    "y = train_df['Crime_Category']\n",
    "train_df.drop('Crime_Category', axis=1, inplace=True)"
   ]
  },
  {
   "cell_type": "code",
   "execution_count": 18,
   "id": "4d5c5b31",
   "metadata": {
    "execution": {
     "iopub.execute_input": "2024-08-19T13:21:26.371806Z",
     "iopub.status.busy": "2024-08-19T13:21:26.370697Z",
     "iopub.status.idle": "2024-08-19T13:21:26.378665Z",
     "shell.execute_reply": "2024-08-19T13:21:26.377440Z"
    },
    "papermill": {
     "duration": 0.049736,
     "end_time": "2024-08-19T13:21:26.381440",
     "exception": false,
     "start_time": "2024-08-19T13:21:26.331704",
     "status": "completed"
    },
    "tags": []
   },
   "outputs": [
    {
     "data": {
      "text/plain": [
       "((20000, 21), (5000, 21))"
      ]
     },
     "execution_count": 18,
     "metadata": {},
     "output_type": "execute_result"
    }
   ],
   "source": [
    "train_df.shape, test_df.shape"
   ]
  },
  {
   "cell_type": "code",
   "execution_count": 19,
   "id": "a7d126c4",
   "metadata": {
    "execution": {
     "iopub.execute_input": "2024-08-19T13:21:26.459564Z",
     "iopub.status.busy": "2024-08-19T13:21:26.459104Z",
     "iopub.status.idle": "2024-08-19T13:21:26.493739Z",
     "shell.execute_reply": "2024-08-19T13:21:26.492477Z"
    },
    "papermill": {
     "duration": 0.077328,
     "end_time": "2024-08-19T13:21:26.496647",
     "exception": false,
     "start_time": "2024-08-19T13:21:26.419319",
     "status": "completed"
    },
    "tags": []
   },
   "outputs": [
    {
     "data": {
      "text/plain": [
       "Location                     0\n",
       "Cross_Street             16552\n",
       "Latitude                     0\n",
       "Longitude                    0\n",
       "Date_Reported                0\n",
       "Date_Occurred                0\n",
       "Time_Occurred                0\n",
       "Area_ID                      0\n",
       "Area_Name                    0\n",
       "Reporting_District_no        0\n",
       "Part 1-2                     0\n",
       "Modus_Operandi            2741\n",
       "Victim_Age                   0\n",
       "Victim_Sex                2624\n",
       "Victim_Descent            2624\n",
       "Premise_Code                 0\n",
       "Premise_Description          5\n",
       "Weapon_Used_Code         12665\n",
       "Weapon_Description       12665\n",
       "Status                       0\n",
       "Status_Description           0\n",
       "dtype: int64"
      ]
     },
     "execution_count": 19,
     "metadata": {},
     "output_type": "execute_result"
    }
   ],
   "source": [
    "# Null values of each feature to preprocess them\n",
    "train_df.isna().sum()"
   ]
  },
  {
   "cell_type": "code",
   "execution_count": 20,
   "id": "4ee1f631",
   "metadata": {
    "execution": {
     "iopub.execute_input": "2024-08-19T13:21:26.574874Z",
     "iopub.status.busy": "2024-08-19T13:21:26.574363Z",
     "iopub.status.idle": "2024-08-19T13:21:26.581439Z",
     "shell.execute_reply": "2024-08-19T13:21:26.580171Z"
    },
    "papermill": {
     "duration": 0.049209,
     "end_time": "2024-08-19T13:21:26.584528",
     "exception": false,
     "start_time": "2024-08-19T13:21:26.535319",
     "status": "completed"
    },
    "tags": []
   },
   "outputs": [
    {
     "name": "stdout",
     "output_type": "stream",
     "text": [
      "Columns of Train Data:  ['Location', 'Cross_Street', 'Latitude', 'Longitude', 'Date_Reported', 'Date_Occurred', 'Time_Occurred', 'Area_ID', 'Area_Name', 'Reporting_District_no', 'Part 1-2', 'Modus_Operandi', 'Victim_Age', 'Victim_Sex', 'Victim_Descent', 'Premise_Code', 'Premise_Description', 'Weapon_Used_Code', 'Weapon_Description', 'Status', 'Status_Description']\n",
      "Columns of Test Data:  ['Location', 'Cross_Street', 'Latitude', 'Longitude', 'Date_Reported', 'Date_Occurred', 'Time_Occurred', 'Area_ID', 'Area_Name', 'Reporting_District_no', 'Part 1-2', 'Modus_Operandi', 'Victim_Age', 'Victim_Sex', 'Victim_Descent', 'Premise_Code', 'Premise_Description', 'Weapon_Used_Code', 'Weapon_Description', 'Status', 'Status_Description']\n"
     ]
    }
   ],
   "source": [
    "# Columns of Train and Test Data:\n",
    "\n",
    "print(\"Columns of Train Data: \", list(train_df.columns) )\n",
    "print(\"Columns of Test Data: \", list(test_df.columns))"
   ]
  },
  {
   "cell_type": "markdown",
   "id": "361d5ef2",
   "metadata": {
    "papermill": {
     "duration": 0.040278,
     "end_time": "2024-08-19T13:21:26.662166",
     "exception": false,
     "start_time": "2024-08-19T13:21:26.621888",
     "status": "completed"
    },
    "tags": []
   },
   "source": [
    "## Impute values"
   ]
  },
  {
   "cell_type": "code",
   "execution_count": 21,
   "id": "8684228f",
   "metadata": {
    "execution": {
     "iopub.execute_input": "2024-08-19T13:21:26.740147Z",
     "iopub.status.busy": "2024-08-19T13:21:26.739280Z",
     "iopub.status.idle": "2024-08-19T13:21:26.813019Z",
     "shell.execute_reply": "2024-08-19T13:21:26.811748Z"
    },
    "papermill": {
     "duration": 0.11607,
     "end_time": "2024-08-19T13:21:26.815942",
     "exception": false,
     "start_time": "2024-08-19T13:21:26.699872",
     "status": "completed"
    },
    "tags": []
   },
   "outputs": [
    {
     "data": {
      "text/html": [
       "<div>\n",
       "<style scoped>\n",
       "    .dataframe tbody tr th:only-of-type {\n",
       "        vertical-align: middle;\n",
       "    }\n",
       "\n",
       "    .dataframe tbody tr th {\n",
       "        vertical-align: top;\n",
       "    }\n",
       "\n",
       "    .dataframe thead th {\n",
       "        text-align: right;\n",
       "    }\n",
       "</style>\n",
       "<table border=\"1\" class=\"dataframe\">\n",
       "  <thead>\n",
       "    <tr style=\"text-align: right;\">\n",
       "      <th></th>\n",
       "      <th>Location</th>\n",
       "      <th>Cross_Street</th>\n",
       "      <th>Latitude</th>\n",
       "      <th>Longitude</th>\n",
       "      <th>Date_Reported</th>\n",
       "      <th>Date_Occurred</th>\n",
       "      <th>Time_Occurred</th>\n",
       "      <th>Area_ID</th>\n",
       "      <th>Area_Name</th>\n",
       "      <th>Reporting_District_no</th>\n",
       "      <th>...</th>\n",
       "      <th>Modus_Operandi</th>\n",
       "      <th>Victim_Age</th>\n",
       "      <th>Victim_Sex</th>\n",
       "      <th>Victim_Descent</th>\n",
       "      <th>Premise_Code</th>\n",
       "      <th>Premise_Description</th>\n",
       "      <th>Weapon_Used_Code</th>\n",
       "      <th>Weapon_Description</th>\n",
       "      <th>Status</th>\n",
       "      <th>Status_Description</th>\n",
       "    </tr>\n",
       "  </thead>\n",
       "  <tbody>\n",
       "    <tr>\n",
       "      <th>0</th>\n",
       "      <td>1500    LEIGHTON                     AV</td>\n",
       "      <td>False</td>\n",
       "      <td>34.0128</td>\n",
       "      <td>-118.3045</td>\n",
       "      <td>03/03/2020 12:00:00 AM</td>\n",
       "      <td>03/03/2020 12:00:00 AM</td>\n",
       "      <td>2000.0</td>\n",
       "      <td>3.0</td>\n",
       "      <td>Southwest</td>\n",
       "      <td>376.0</td>\n",
       "      <td>...</td>\n",
       "      <td>0416 1241 1243 1813 1821 2000</td>\n",
       "      <td>28.0</td>\n",
       "      <td>F</td>\n",
       "      <td>H</td>\n",
       "      <td>501.0</td>\n",
       "      <td>SINGLE FAMILY DWELLING</td>\n",
       "      <td>400.0</td>\n",
       "      <td>STRONG-ARM (HANDS, FIST, FEET OR BODILY FORCE)</td>\n",
       "      <td>IC</td>\n",
       "      <td>Invest Cont</td>\n",
       "    </tr>\n",
       "    <tr>\n",
       "      <th>1</th>\n",
       "      <td>100 S  NORMANDIE                    AV</td>\n",
       "      <td>False</td>\n",
       "      <td>34.0726</td>\n",
       "      <td>-118.3029</td>\n",
       "      <td>06/01/2020 12:00:00 AM</td>\n",
       "      <td>04/25/2020 12:00:00 AM</td>\n",
       "      <td>1700.0</td>\n",
       "      <td>20.0</td>\n",
       "      <td>Olympic</td>\n",
       "      <td>2014.0</td>\n",
       "      <td>...</td>\n",
       "      <td>0344 0394</td>\n",
       "      <td>26.0</td>\n",
       "      <td>M</td>\n",
       "      <td>B</td>\n",
       "      <td>502.0</td>\n",
       "      <td>MULTI-UNIT DWELLING (APARTMENT, DUPLEX, ETC)</td>\n",
       "      <td>0.0</td>\n",
       "      <td>NaN</td>\n",
       "      <td>IC</td>\n",
       "      <td>Invest Cont</td>\n",
       "    </tr>\n",
       "    <tr>\n",
       "      <th>2</th>\n",
       "      <td>300 E  111TH                        ST</td>\n",
       "      <td>False</td>\n",
       "      <td>33.9348</td>\n",
       "      <td>-118.2695</td>\n",
       "      <td>08/28/2020 12:00:00 AM</td>\n",
       "      <td>08/27/2020 12:00:00 AM</td>\n",
       "      <td>900.0</td>\n",
       "      <td>18.0</td>\n",
       "      <td>Southeast</td>\n",
       "      <td>1844.0</td>\n",
       "      <td>...</td>\n",
       "      <td>1822 0701 1914 0355 1202 0100</td>\n",
       "      <td>62.0</td>\n",
       "      <td>F</td>\n",
       "      <td>B</td>\n",
       "      <td>721.0</td>\n",
       "      <td>HIGH SCHOOL</td>\n",
       "      <td>0.0</td>\n",
       "      <td>NaN</td>\n",
       "      <td>IC</td>\n",
       "      <td>Invest Cont</td>\n",
       "    </tr>\n",
       "    <tr>\n",
       "      <th>3</th>\n",
       "      <td>1300 S  LA BREA                      AV</td>\n",
       "      <td>False</td>\n",
       "      <td>34.0497</td>\n",
       "      <td>-118.3442</td>\n",
       "      <td>12/23/2020 12:00:00 AM</td>\n",
       "      <td>12/03/2020 12:00:00 AM</td>\n",
       "      <td>2200.0</td>\n",
       "      <td>7.0</td>\n",
       "      <td>Wilshire</td>\n",
       "      <td>765.0</td>\n",
       "      <td>...</td>\n",
       "      <td>NaN</td>\n",
       "      <td>0.0</td>\n",
       "      <td>0</td>\n",
       "      <td>0</td>\n",
       "      <td>108.0</td>\n",
       "      <td>PARKING LOT</td>\n",
       "      <td>0.0</td>\n",
       "      <td>NaN</td>\n",
       "      <td>IC</td>\n",
       "      <td>Invest Cont</td>\n",
       "    </tr>\n",
       "    <tr>\n",
       "      <th>4</th>\n",
       "      <td>11000    MORRISON                     ST</td>\n",
       "      <td>False</td>\n",
       "      <td>34.1611</td>\n",
       "      <td>-118.3704</td>\n",
       "      <td>08/30/2020 12:00:00 AM</td>\n",
       "      <td>08/29/2020 12:00:00 AM</td>\n",
       "      <td>130.0</td>\n",
       "      <td>15.0</td>\n",
       "      <td>N Hollywood</td>\n",
       "      <td>1555.0</td>\n",
       "      <td>...</td>\n",
       "      <td>1501</td>\n",
       "      <td>37.0</td>\n",
       "      <td>F</td>\n",
       "      <td>W</td>\n",
       "      <td>501.0</td>\n",
       "      <td>SINGLE FAMILY DWELLING</td>\n",
       "      <td>0.0</td>\n",
       "      <td>NaN</td>\n",
       "      <td>AO</td>\n",
       "      <td>Adult Other</td>\n",
       "    </tr>\n",
       "    <tr>\n",
       "      <th>...</th>\n",
       "      <td>...</td>\n",
       "      <td>...</td>\n",
       "      <td>...</td>\n",
       "      <td>...</td>\n",
       "      <td>...</td>\n",
       "      <td>...</td>\n",
       "      <td>...</td>\n",
       "      <td>...</td>\n",
       "      <td>...</td>\n",
       "      <td>...</td>\n",
       "      <td>...</td>\n",
       "      <td>...</td>\n",
       "      <td>...</td>\n",
       "      <td>...</td>\n",
       "      <td>...</td>\n",
       "      <td>...</td>\n",
       "      <td>...</td>\n",
       "      <td>...</td>\n",
       "      <td>...</td>\n",
       "      <td>...</td>\n",
       "      <td>...</td>\n",
       "    </tr>\n",
       "    <tr>\n",
       "      <th>4995</th>\n",
       "      <td>4600    MASCOT                       ST</td>\n",
       "      <td>False</td>\n",
       "      <td>34.0409</td>\n",
       "      <td>-118.3408</td>\n",
       "      <td>06/05/2020 12:00:00 AM</td>\n",
       "      <td>06/04/2020 12:00:00 AM</td>\n",
       "      <td>2100.0</td>\n",
       "      <td>7.0</td>\n",
       "      <td>Wilshire</td>\n",
       "      <td>775.0</td>\n",
       "      <td>...</td>\n",
       "      <td>NaN</td>\n",
       "      <td>0.0</td>\n",
       "      <td>0</td>\n",
       "      <td>0</td>\n",
       "      <td>101.0</td>\n",
       "      <td>STREET</td>\n",
       "      <td>0.0</td>\n",
       "      <td>NaN</td>\n",
       "      <td>IC</td>\n",
       "      <td>Invest Cont</td>\n",
       "    </tr>\n",
       "    <tr>\n",
       "      <th>4996</th>\n",
       "      <td>2200 E  7TH                          ST</td>\n",
       "      <td>False</td>\n",
       "      <td>34.0347</td>\n",
       "      <td>-118.2253</td>\n",
       "      <td>12/02/2020 12:00:00 AM</td>\n",
       "      <td>11/25/2020 12:00:00 AM</td>\n",
       "      <td>1530.0</td>\n",
       "      <td>4.0</td>\n",
       "      <td>Hollenbeck</td>\n",
       "      <td>471.0</td>\n",
       "      <td>...</td>\n",
       "      <td>1300 0325</td>\n",
       "      <td>0.0</td>\n",
       "      <td>X</td>\n",
       "      <td>X</td>\n",
       "      <td>116.0</td>\n",
       "      <td>OTHER/OUTSIDE</td>\n",
       "      <td>0.0</td>\n",
       "      <td>NaN</td>\n",
       "      <td>IC</td>\n",
       "      <td>Invest Cont</td>\n",
       "    </tr>\n",
       "    <tr>\n",
       "      <th>4997</th>\n",
       "      <td>LANGDON                      AV</td>\n",
       "      <td>True</td>\n",
       "      <td>34.2392</td>\n",
       "      <td>-118.4698</td>\n",
       "      <td>11/21/2020 12:00:00 AM</td>\n",
       "      <td>11/21/2020 12:00:00 AM</td>\n",
       "      <td>2100.0</td>\n",
       "      <td>19.0</td>\n",
       "      <td>Mission</td>\n",
       "      <td>1961.0</td>\n",
       "      <td>...</td>\n",
       "      <td>0913 1817 0416</td>\n",
       "      <td>38.0</td>\n",
       "      <td>M</td>\n",
       "      <td>H</td>\n",
       "      <td>101.0</td>\n",
       "      <td>STREET</td>\n",
       "      <td>400.0</td>\n",
       "      <td>STRONG-ARM (HANDS, FIST, FEET OR BODILY FORCE)</td>\n",
       "      <td>AA</td>\n",
       "      <td>Adult Arrest</td>\n",
       "    </tr>\n",
       "    <tr>\n",
       "      <th>4998</th>\n",
       "      <td>400 E  5TH                          ST</td>\n",
       "      <td>False</td>\n",
       "      <td>34.0453</td>\n",
       "      <td>-118.2443</td>\n",
       "      <td>03/01/2020 12:00:00 AM</td>\n",
       "      <td>02/29/2020 12:00:00 AM</td>\n",
       "      <td>2335.0</td>\n",
       "      <td>1.0</td>\n",
       "      <td>Central</td>\n",
       "      <td>147.0</td>\n",
       "      <td>...</td>\n",
       "      <td>0416</td>\n",
       "      <td>41.0</td>\n",
       "      <td>M</td>\n",
       "      <td>B</td>\n",
       "      <td>502.0</td>\n",
       "      <td>MULTI-UNIT DWELLING (APARTMENT, DUPLEX, ETC)</td>\n",
       "      <td>500.0</td>\n",
       "      <td>UNKNOWN WEAPON/OTHER WEAPON</td>\n",
       "      <td>AO</td>\n",
       "      <td>Adult Other</td>\n",
       "    </tr>\n",
       "    <tr>\n",
       "      <th>4999</th>\n",
       "      <td>10100 S  SAN PEDRO                    ST</td>\n",
       "      <td>False</td>\n",
       "      <td>33.9438</td>\n",
       "      <td>-118.2695</td>\n",
       "      <td>10/09/2020 12:00:00 AM</td>\n",
       "      <td>10/09/2020 12:00:00 AM</td>\n",
       "      <td>320.0</td>\n",
       "      <td>18.0</td>\n",
       "      <td>Southeast</td>\n",
       "      <td>1823.0</td>\n",
       "      <td>...</td>\n",
       "      <td>1822 0329</td>\n",
       "      <td>49.0</td>\n",
       "      <td>M</td>\n",
       "      <td>B</td>\n",
       "      <td>122.0</td>\n",
       "      <td>VEHICLE, PASSENGER/TRUCK</td>\n",
       "      <td>0.0</td>\n",
       "      <td>NaN</td>\n",
       "      <td>IC</td>\n",
       "      <td>Invest Cont</td>\n",
       "    </tr>\n",
       "  </tbody>\n",
       "</table>\n",
       "<p>5000 rows × 21 columns</p>\n",
       "</div>"
      ],
      "text/plain": [
       "                                      Location  Cross_Street  Latitude  \\\n",
       "0      1500    LEIGHTON                     AV         False   34.0128   \n",
       "1       100 S  NORMANDIE                    AV         False   34.0726   \n",
       "2       300 E  111TH                        ST         False   33.9348   \n",
       "3      1300 S  LA BREA                      AV         False   34.0497   \n",
       "4     11000    MORRISON                     ST         False   34.1611   \n",
       "...                                        ...           ...       ...   \n",
       "4995   4600    MASCOT                       ST         False   34.0409   \n",
       "4996   2200 E  7TH                          ST         False   34.0347   \n",
       "4997           LANGDON                      AV          True   34.2392   \n",
       "4998    400 E  5TH                          ST         False   34.0453   \n",
       "4999  10100 S  SAN PEDRO                    ST         False   33.9438   \n",
       "\n",
       "      Longitude           Date_Reported           Date_Occurred  \\\n",
       "0     -118.3045  03/03/2020 12:00:00 AM  03/03/2020 12:00:00 AM   \n",
       "1     -118.3029  06/01/2020 12:00:00 AM  04/25/2020 12:00:00 AM   \n",
       "2     -118.2695  08/28/2020 12:00:00 AM  08/27/2020 12:00:00 AM   \n",
       "3     -118.3442  12/23/2020 12:00:00 AM  12/03/2020 12:00:00 AM   \n",
       "4     -118.3704  08/30/2020 12:00:00 AM  08/29/2020 12:00:00 AM   \n",
       "...         ...                     ...                     ...   \n",
       "4995  -118.3408  06/05/2020 12:00:00 AM  06/04/2020 12:00:00 AM   \n",
       "4996  -118.2253  12/02/2020 12:00:00 AM  11/25/2020 12:00:00 AM   \n",
       "4997  -118.4698  11/21/2020 12:00:00 AM  11/21/2020 12:00:00 AM   \n",
       "4998  -118.2443  03/01/2020 12:00:00 AM  02/29/2020 12:00:00 AM   \n",
       "4999  -118.2695  10/09/2020 12:00:00 AM  10/09/2020 12:00:00 AM   \n",
       "\n",
       "      Time_Occurred  Area_ID    Area_Name  Reporting_District_no  ...  \\\n",
       "0            2000.0      3.0    Southwest                  376.0  ...   \n",
       "1            1700.0     20.0      Olympic                 2014.0  ...   \n",
       "2             900.0     18.0    Southeast                 1844.0  ...   \n",
       "3            2200.0      7.0     Wilshire                  765.0  ...   \n",
       "4             130.0     15.0  N Hollywood                 1555.0  ...   \n",
       "...             ...      ...          ...                    ...  ...   \n",
       "4995         2100.0      7.0     Wilshire                  775.0  ...   \n",
       "4996         1530.0      4.0   Hollenbeck                  471.0  ...   \n",
       "4997         2100.0     19.0      Mission                 1961.0  ...   \n",
       "4998         2335.0      1.0      Central                  147.0  ...   \n",
       "4999          320.0     18.0    Southeast                 1823.0  ...   \n",
       "\n",
       "                     Modus_Operandi Victim_Age  Victim_Sex Victim_Descent  \\\n",
       "0     0416 1241 1243 1813 1821 2000       28.0           F              H   \n",
       "1                         0344 0394       26.0           M              B   \n",
       "2     1822 0701 1914 0355 1202 0100       62.0           F              B   \n",
       "3                               NaN        0.0           0              0   \n",
       "4                              1501       37.0           F              W   \n",
       "...                             ...        ...         ...            ...   \n",
       "4995                            NaN        0.0           0              0   \n",
       "4996                      1300 0325        0.0           X              X   \n",
       "4997                 0913 1817 0416       38.0           M              H   \n",
       "4998                           0416       41.0           M              B   \n",
       "4999                      1822 0329       49.0           M              B   \n",
       "\n",
       "     Premise_Code                           Premise_Description  \\\n",
       "0           501.0                        SINGLE FAMILY DWELLING   \n",
       "1           502.0  MULTI-UNIT DWELLING (APARTMENT, DUPLEX, ETC)   \n",
       "2           721.0                                   HIGH SCHOOL   \n",
       "3           108.0                                   PARKING LOT   \n",
       "4           501.0                        SINGLE FAMILY DWELLING   \n",
       "...           ...                                           ...   \n",
       "4995        101.0                                        STREET   \n",
       "4996        116.0                                 OTHER/OUTSIDE   \n",
       "4997        101.0                                        STREET   \n",
       "4998        502.0  MULTI-UNIT DWELLING (APARTMENT, DUPLEX, ETC)   \n",
       "4999        122.0                      VEHICLE, PASSENGER/TRUCK   \n",
       "\n",
       "     Weapon_Used_Code                              Weapon_Description Status  \\\n",
       "0               400.0  STRONG-ARM (HANDS, FIST, FEET OR BODILY FORCE)     IC   \n",
       "1                 0.0                                             NaN     IC   \n",
       "2                 0.0                                             NaN     IC   \n",
       "3                 0.0                                             NaN     IC   \n",
       "4                 0.0                                             NaN     AO   \n",
       "...               ...                                             ...    ...   \n",
       "4995              0.0                                             NaN     IC   \n",
       "4996              0.0                                             NaN     IC   \n",
       "4997            400.0  STRONG-ARM (HANDS, FIST, FEET OR BODILY FORCE)     AA   \n",
       "4998            500.0                     UNKNOWN WEAPON/OTHER WEAPON     AO   \n",
       "4999              0.0                                             NaN     IC   \n",
       "\n",
       "     Status_Description  \n",
       "0           Invest Cont  \n",
       "1           Invest Cont  \n",
       "2           Invest Cont  \n",
       "3           Invest Cont  \n",
       "4           Adult Other  \n",
       "...                 ...  \n",
       "4995        Invest Cont  \n",
       "4996        Invest Cont  \n",
       "4997       Adult Arrest  \n",
       "4998        Adult Other  \n",
       "4999        Invest Cont  \n",
       "\n",
       "[5000 rows x 21 columns]"
      ]
     },
     "execution_count": 21,
     "metadata": {},
     "output_type": "execute_result"
    }
   ],
   "source": [
    "# Function definitions for imputing each column:\n",
    "\n",
    "def transform_cross_street(df):\n",
    "    df['Cross_Street'] = df['Cross_Street'].fillna(0).astype(bool)\n",
    "    return df\n",
    "\n",
    "def transform_victim_sex(df):\n",
    "    df['Victim_Sex'] = df['Victim_Sex'].fillna(0)\n",
    "    return df\n",
    "\n",
    "def transform_victim_descent(df):\n",
    "    df['Victim_Descent'] = df['Victim_Descent'].fillna(0)\n",
    "    return df\n",
    "  \n",
    "def transform_weapon_used_code(df):\n",
    "    df['Weapon_Used_Code'] = df['Weapon_Used_Code'].fillna(0)\n",
    "    return df\n",
    "    \n",
    "# Pipeline for imputing desired columns:\n",
    "\n",
    "imputer_pipeline = Pipeline(steps=[\n",
    "    ('cross_street_imputer', FunctionTransformer(transform_cross_street)),\n",
    "    ('victim_sex_imputer', FunctionTransformer(transform_victim_sex)),\n",
    "    ('victim_descent_imputer', FunctionTransformer(transform_victim_descent)),\n",
    "    ('weapon_used_code_imputer', FunctionTransformer(transform_weapon_used_code))\n",
    "])\n",
    "\n",
    "# Fit the datasets on the pipeline and transform them:\n",
    "\n",
    "imputer_pipeline.fit_transform(train_df)\n",
    "imputer_pipeline.transform(test_df)"
   ]
  },
  {
   "cell_type": "code",
   "execution_count": 22,
   "id": "049a7bcb",
   "metadata": {
    "execution": {
     "iopub.execute_input": "2024-08-19T13:21:26.897461Z",
     "iopub.status.busy": "2024-08-19T13:21:26.896913Z",
     "iopub.status.idle": "2024-08-19T13:21:26.904932Z",
     "shell.execute_reply": "2024-08-19T13:21:26.903858Z"
    },
    "papermill": {
     "duration": 0.053203,
     "end_time": "2024-08-19T13:21:26.908004",
     "exception": false,
     "start_time": "2024-08-19T13:21:26.854801",
     "status": "completed"
    },
    "tags": []
   },
   "outputs": [
    {
     "data": {
      "text/plain": [
       "((20000, 21), (5000, 21))"
      ]
     },
     "execution_count": 22,
     "metadata": {},
     "output_type": "execute_result"
    }
   ],
   "source": [
    "train_df.shape, test_df.shape"
   ]
  },
  {
   "cell_type": "code",
   "execution_count": 23,
   "id": "5a3e5833",
   "metadata": {
    "execution": {
     "iopub.execute_input": "2024-08-19T13:21:26.988951Z",
     "iopub.status.busy": "2024-08-19T13:21:26.987584Z",
     "iopub.status.idle": "2024-08-19T13:21:27.023719Z",
     "shell.execute_reply": "2024-08-19T13:21:27.022445Z"
    },
    "papermill": {
     "duration": 0.080131,
     "end_time": "2024-08-19T13:21:27.026683",
     "exception": false,
     "start_time": "2024-08-19T13:21:26.946552",
     "status": "completed"
    },
    "tags": []
   },
   "outputs": [
    {
     "data": {
      "text/plain": [
       "Location                     0\n",
       "Cross_Street                 0\n",
       "Latitude                     0\n",
       "Longitude                    0\n",
       "Date_Reported                0\n",
       "Date_Occurred                0\n",
       "Time_Occurred                0\n",
       "Area_ID                      0\n",
       "Area_Name                    0\n",
       "Reporting_District_no        0\n",
       "Part 1-2                     0\n",
       "Modus_Operandi            2741\n",
       "Victim_Age                   0\n",
       "Victim_Sex                   0\n",
       "Victim_Descent               0\n",
       "Premise_Code                 0\n",
       "Premise_Description          5\n",
       "Weapon_Used_Code             0\n",
       "Weapon_Description       12665\n",
       "Status                       0\n",
       "Status_Description           0\n",
       "dtype: int64"
      ]
     },
     "execution_count": 23,
     "metadata": {},
     "output_type": "execute_result"
    }
   ],
   "source": [
    "# Check the null values again:\n",
    "train_df.isna().sum()"
   ]
  },
  {
   "cell_type": "markdown",
   "id": "49b930c6",
   "metadata": {
    "papermill": {
     "duration": 0.039156,
     "end_time": "2024-08-19T13:21:27.105590",
     "exception": false,
     "start_time": "2024-08-19T13:21:27.066434",
     "status": "completed"
    },
    "tags": []
   },
   "source": [
    "## Feature Extraction"
   ]
  },
  {
   "cell_type": "code",
   "execution_count": 24,
   "id": "9719c6a9",
   "metadata": {
    "execution": {
     "iopub.execute_input": "2024-08-19T13:21:27.187008Z",
     "iopub.status.busy": "2024-08-19T13:21:27.186495Z",
     "iopub.status.idle": "2024-08-19T13:21:27.259600Z",
     "shell.execute_reply": "2024-08-19T13:21:27.258200Z"
    },
    "papermill": {
     "duration": 0.118065,
     "end_time": "2024-08-19T13:21:27.262911",
     "exception": false,
     "start_time": "2024-08-19T13:21:27.144846",
     "status": "completed"
    },
    "tags": []
   },
   "outputs": [],
   "source": [
    "# Function to extract Day, Month and Year from 'Date_Reported' & 'Date_Occurred' columns: \n",
    "\n",
    "def date_transformer(df):\n",
    "  df['Date_Reported'] = pd.to_datetime(df['Date_Reported'], format='%m/%d/%Y %I:%M:%S %p')\n",
    "  df['Date_Occurred'] = pd.to_datetime(df['Date_Occurred'], format='%m/%d/%Y %I:%M:%S %p')\n",
    "  df['Day_Reported'] = df['Date_Reported'].dt.day\n",
    "  df['Month_Reported'] = df['Date_Reported'].dt.month\n",
    "  df['Year_Reported'] = df['Date_Reported'].dt.year\n",
    "  df['Day_Occurred'] = df['Date_Occurred'].dt.day\n",
    "  df['Month_Occurred'] = df['Date_Occurred'].dt.month\n",
    "  df['Year_Occurred'] = df['Date_Occurred'].dt.year\n",
    "  df = df.drop(['Date_Reported', 'Date_Occurred'], axis=1)\n",
    "  return df\n",
    "\n",
    "# Pipeline for extracting desired features:\n",
    "\n",
    "date_transformer_pipeline = Pipeline(steps=[\n",
    "    ('transform_date', FunctionTransformer(date_transformer))\n",
    "])\n",
    "\n",
    "# Fit and Transform the datasets on the pipeline:\n",
    "\n",
    "transformed_train_df = date_transformer_pipeline.fit_transform(train_df)\n",
    "transformed_test_df = date_transformer_pipeline.transform(test_df)"
   ]
  },
  {
   "cell_type": "code",
   "execution_count": 25,
   "id": "8e67742a",
   "metadata": {
    "execution": {
     "iopub.execute_input": "2024-08-19T13:21:27.344743Z",
     "iopub.status.busy": "2024-08-19T13:21:27.344236Z",
     "iopub.status.idle": "2024-08-19T13:21:27.352324Z",
     "shell.execute_reply": "2024-08-19T13:21:27.351145Z"
    },
    "papermill": {
     "duration": 0.051932,
     "end_time": "2024-08-19T13:21:27.355117",
     "exception": false,
     "start_time": "2024-08-19T13:21:27.303185",
     "status": "completed"
    },
    "tags": []
   },
   "outputs": [
    {
     "data": {
      "text/plain": [
       "((20000, 27), (5000, 27))"
      ]
     },
     "execution_count": 25,
     "metadata": {},
     "output_type": "execute_result"
    }
   ],
   "source": [
    "train_df.shape, test_df.shape"
   ]
  },
  {
   "cell_type": "code",
   "execution_count": 26,
   "id": "824faa88",
   "metadata": {
    "execution": {
     "iopub.execute_input": "2024-08-19T13:21:27.436596Z",
     "iopub.status.busy": "2024-08-19T13:21:27.435578Z",
     "iopub.status.idle": "2024-08-19T13:21:27.451151Z",
     "shell.execute_reply": "2024-08-19T13:21:27.449933Z"
    },
    "papermill": {
     "duration": 0.060008,
     "end_time": "2024-08-19T13:21:27.454523",
     "exception": false,
     "start_time": "2024-08-19T13:21:27.394515",
     "status": "completed"
    },
    "tags": []
   },
   "outputs": [],
   "source": [
    "# Drop all the redundant columns\n",
    "\n",
    "columns_to_drop = ['Date_Reported', 'Date_Occurred', 'Location','Weapon_Description', 'Status_Description', 'Premise_Description', 'Area_Name']\n",
    "train_df.drop(columns_to_drop, axis=1, inplace=True)\n",
    "test_df.drop(columns_to_drop, axis=1, inplace=True)"
   ]
  },
  {
   "cell_type": "code",
   "execution_count": 27,
   "id": "4d12030e",
   "metadata": {
    "execution": {
     "iopub.execute_input": "2024-08-19T13:21:27.536097Z",
     "iopub.status.busy": "2024-08-19T13:21:27.534871Z",
     "iopub.status.idle": "2024-08-19T13:21:27.543621Z",
     "shell.execute_reply": "2024-08-19T13:21:27.542378Z"
    },
    "papermill": {
     "duration": 0.052722,
     "end_time": "2024-08-19T13:21:27.546316",
     "exception": false,
     "start_time": "2024-08-19T13:21:27.493594",
     "status": "completed"
    },
    "tags": []
   },
   "outputs": [
    {
     "data": {
      "text/plain": [
       "((20000, 20), (5000, 20))"
      ]
     },
     "execution_count": 27,
     "metadata": {},
     "output_type": "execute_result"
    }
   ],
   "source": [
    "train_df.shape, test_df.shape"
   ]
  },
  {
   "cell_type": "markdown",
   "id": "f561e723",
   "metadata": {
    "papermill": {
     "duration": 0.039897,
     "end_time": "2024-08-19T13:21:27.625320",
     "exception": false,
     "start_time": "2024-08-19T13:21:27.585423",
     "status": "completed"
    },
    "tags": []
   },
   "source": [
    "## Feature Scaling"
   ]
  },
  {
   "cell_type": "code",
   "execution_count": 28,
   "id": "00242573",
   "metadata": {
    "execution": {
     "iopub.execute_input": "2024-08-19T13:21:27.707962Z",
     "iopub.status.busy": "2024-08-19T13:21:27.707495Z",
     "iopub.status.idle": "2024-08-19T13:21:27.741388Z",
     "shell.execute_reply": "2024-08-19T13:21:27.740012Z"
    },
    "papermill": {
     "duration": 0.077872,
     "end_time": "2024-08-19T13:21:27.744678",
     "exception": false,
     "start_time": "2024-08-19T13:21:27.666806",
     "status": "completed"
    },
    "tags": []
   },
   "outputs": [],
   "source": [
    "# Select all the numerical features to scale them:\n",
    "numerical_features = train_df.select_dtypes(include=['float64', 'int32']).columns\n",
    "\n",
    "# Initializing the MinMaxScaler\n",
    "scaler = MinMaxScaler()\n",
    "\n",
    "# Scaling the numerical features\n",
    "train_df[numerical_features] = scaler.fit_transform(train_df[numerical_features])\n",
    "test_df[numerical_features] = scaler.transform(test_df[numerical_features])"
   ]
  },
  {
   "cell_type": "markdown",
   "id": "fe204b90",
   "metadata": {
    "papermill": {
     "duration": 0.038523,
     "end_time": "2024-08-19T13:21:27.823371",
     "exception": false,
     "start_time": "2024-08-19T13:21:27.784848",
     "status": "completed"
    },
    "tags": []
   },
   "source": [
    "## Feature Encoding"
   ]
  },
  {
   "cell_type": "markdown",
   "id": "790b07b2",
   "metadata": {
    "papermill": {
     "duration": 0.039752,
     "end_time": "2024-08-19T13:21:27.901982",
     "exception": false,
     "start_time": "2024-08-19T13:21:27.862230",
     "status": "completed"
    },
    "tags": []
   },
   "source": [
    "### OHE 'Victim_Sex', 'Victim_Descent', 'Status'"
   ]
  },
  {
   "cell_type": "code",
   "execution_count": 29,
   "id": "7f45404e",
   "metadata": {
    "execution": {
     "iopub.execute_input": "2024-08-19T13:21:27.982723Z",
     "iopub.status.busy": "2024-08-19T13:21:27.982256Z",
     "iopub.status.idle": "2024-08-19T13:21:28.267746Z",
     "shell.execute_reply": "2024-08-19T13:21:28.266329Z"
    },
    "papermill": {
     "duration": 0.329958,
     "end_time": "2024-08-19T13:21:28.271074",
     "exception": false,
     "start_time": "2024-08-19T13:21:27.941116",
     "status": "completed"
    },
    "tags": []
   },
   "outputs": [
    {
     "name": "stderr",
     "output_type": "stream",
     "text": [
      "/opt/conda/lib/python3.10/site-packages/sklearn/preprocessing/_encoders.py:202: UserWarning: Found unknown categories in columns [1] during transform. These unknown categories will be encoded as all zeros\n",
      "  warnings.warn(\n"
     ]
    }
   ],
   "source": [
    "# Ensure all the columns are of type 'String'\n",
    "categorical_features = ['Victim_Sex', 'Victim_Descent', 'Status']\n",
    "for col in categorical_features:\n",
    "    train_df[col] = train_df[col].astype(str)\n",
    "    test_df[col] = test_df[col].astype(str)\n",
    "\n",
    "# Column transformer for one-hot encoding\n",
    "preprocessor = ColumnTransformer(\n",
    "    transformers=[\n",
    "        ('cat', OneHotEncoder(sparse_output=False, drop='first', handle_unknown='ignore'), categorical_features)\n",
    "    ],\n",
    "    remainder='passthrough'\n",
    ")\n",
    "\n",
    "# Fit and transform the training data\n",
    "train_transformed = preprocessor.fit_transform(train_df)\n",
    "\n",
    "# Transform the test data\n",
    "test_transformed = preprocessor.transform(test_df)\n",
    "\n",
    "# Get the feature names from the ColumnTransformer\n",
    "feature_names = preprocessor.get_feature_names_out()\n",
    "\n",
    "# Remove 'cat___' and 'remainder___' prefixes\n",
    "feature_names_cleaned = [name.replace('cat__', '').replace('remainder__', '') for name in feature_names]\n",
    "\n",
    "# Convert the transformed arrays back to DataFrames\n",
    "train_df_transformed = pd.DataFrame(train_transformed, columns=feature_names_cleaned)\n",
    "test_df_transformed = pd.DataFrame(test_transformed, columns=feature_names_cleaned)\n",
    "\n",
    "# To not let Modus_Operandi get converted from String to Float\n",
    "float_columns = train_df_transformed.columns.drop('Modus_Operandi')\n",
    "\n",
    "# Convert all other columns to float\n",
    "train_df_transformed[float_columns] = train_df_transformed[float_columns].astype(float)\n",
    "test_df_transformed[float_columns] = test_df_transformed[float_columns].astype(float)\n",
    "\n",
    "# Update train_df and test_df with the transformed data\n",
    "train_df = train_df_transformed\n",
    "test_df = test_df_transformed"
   ]
  },
  {
   "cell_type": "markdown",
   "id": "b820bf72",
   "metadata": {
    "papermill": {
     "duration": 0.037882,
     "end_time": "2024-08-19T13:21:28.346642",
     "exception": false,
     "start_time": "2024-08-19T13:21:28.308760",
     "status": "completed"
    },
    "tags": []
   },
   "source": [
    "### Multi One Hot Encode 'Modus_Operandi'"
   ]
  },
  {
   "cell_type": "code",
   "execution_count": 30,
   "id": "5c032638",
   "metadata": {
    "execution": {
     "iopub.execute_input": "2024-08-19T13:21:28.424675Z",
     "iopub.status.busy": "2024-08-19T13:21:28.424009Z",
     "iopub.status.idle": "2024-08-19T13:21:28.886716Z",
     "shell.execute_reply": "2024-08-19T13:21:28.885084Z"
    },
    "papermill": {
     "duration": 0.506214,
     "end_time": "2024-08-19T13:21:28.890644",
     "exception": false,
     "start_time": "2024-08-19T13:21:28.384430",
     "status": "completed"
    },
    "tags": []
   },
   "outputs": [],
   "source": [
    "# Convert non-string entries to empty strings\n",
    "train_df['Modus_Operandi'] = train_df['Modus_Operandi'].fillna('').astype(str)\n",
    "\n",
    "# Now apply the split function\n",
    "train_df['Modus_Operandi'] = train_df['Modus_Operandi'].apply(lambda x: x.split())\n",
    "\n",
    "# Apply MultiLabelBinarizer\n",
    "mlb = MultiLabelBinarizer()\n",
    "modus_operandi_encoded = mlb.fit_transform(train_df['Modus_Operandi'])\n",
    "\n",
    "# Convert the encoded data into a DataFrame\n",
    "modus_operandi_df = pd.DataFrame(modus_operandi_encoded, columns=mlb.classes_)\n",
    "\n",
    "# Concatenate with the original DataFrame\n",
    "train_df = pd.concat([train_df, modus_operandi_df], axis=1)\n",
    "\n",
    "# Drop the original 'Modus_Operandi' column\n",
    "train_df.drop('Modus_Operandi', axis=1, inplace=True)"
   ]
  },
  {
   "cell_type": "code",
   "execution_count": 31,
   "id": "4297dd60",
   "metadata": {
    "execution": {
     "iopub.execute_input": "2024-08-19T13:21:28.973380Z",
     "iopub.status.busy": "2024-08-19T13:21:28.972962Z",
     "iopub.status.idle": "2024-08-19T13:21:29.061225Z",
     "shell.execute_reply": "2024-08-19T13:21:29.059502Z"
    },
    "papermill": {
     "duration": 0.132481,
     "end_time": "2024-08-19T13:21:29.064667",
     "exception": false,
     "start_time": "2024-08-19T13:21:28.932186",
     "status": "completed"
    },
    "tags": []
   },
   "outputs": [],
   "source": [
    "# Convert non-string entries to empty strings\n",
    "test_df['Modus_Operandi'] = test_df['Modus_Operandi'].fillna('').astype(str)\n",
    "\n",
    "# Now apply the split function\n",
    "test_df['Modus_Operandi'] = test_df['Modus_Operandi'].apply(lambda x: x.split())\n",
    "\n",
    "# Apply MultiLabelBinarizer\n",
    "mlb = MultiLabelBinarizer()\n",
    "modus_operandi_encoded = mlb.fit_transform(test_df['Modus_Operandi'])\n",
    "\n",
    "# Convert the encoded data into a DataFrame\n",
    "modus_operandi_df = pd.DataFrame(modus_operandi_encoded, columns=mlb.classes_)\n",
    "\n",
    "# Concatenate with the original DataFrame\n",
    "test_df = pd.concat([test_df, modus_operandi_df], axis=1)\n",
    "\n",
    "# Drop the original 'Modus_Operandi' column\n",
    "test_df.drop('Modus_Operandi', axis=1, inplace=True)"
   ]
  },
  {
   "cell_type": "code",
   "execution_count": 32,
   "id": "7ae356a7",
   "metadata": {
    "execution": {
     "iopub.execute_input": "2024-08-19T13:21:29.146708Z",
     "iopub.status.busy": "2024-08-19T13:21:29.145661Z",
     "iopub.status.idle": "2024-08-19T13:21:29.177762Z",
     "shell.execute_reply": "2024-08-19T13:21:29.176325Z"
    },
    "papermill": {
     "duration": 0.076339,
     "end_time": "2024-08-19T13:21:29.180557",
     "exception": false,
     "start_time": "2024-08-19T13:21:29.104218",
     "status": "completed"
    },
    "tags": []
   },
   "outputs": [
    {
     "data": {
      "text/html": [
       "<div>\n",
       "<style scoped>\n",
       "    .dataframe tbody tr th:only-of-type {\n",
       "        vertical-align: middle;\n",
       "    }\n",
       "\n",
       "    .dataframe tbody tr th {\n",
       "        vertical-align: top;\n",
       "    }\n",
       "\n",
       "    .dataframe thead th {\n",
       "        text-align: right;\n",
       "    }\n",
       "</style>\n",
       "<table border=\"1\" class=\"dataframe\">\n",
       "  <thead>\n",
       "    <tr style=\"text-align: right;\">\n",
       "      <th></th>\n",
       "      <th>Victim_Sex_F</th>\n",
       "      <th>Victim_Sex_H</th>\n",
       "      <th>Victim_Sex_M</th>\n",
       "      <th>Victim_Sex_X</th>\n",
       "      <th>Victim_Descent_A</th>\n",
       "      <th>Victim_Descent_B</th>\n",
       "      <th>Victim_Descent_C</th>\n",
       "      <th>Victim_Descent_D</th>\n",
       "      <th>Victim_Descent_F</th>\n",
       "      <th>Victim_Descent_G</th>\n",
       "      <th>...</th>\n",
       "      <th>2126</th>\n",
       "      <th>2157</th>\n",
       "      <th>2201</th>\n",
       "      <th>2204</th>\n",
       "      <th>2303</th>\n",
       "      <th>2304</th>\n",
       "      <th>3003</th>\n",
       "      <th>3004</th>\n",
       "      <th>4025</th>\n",
       "      <th>9999</th>\n",
       "    </tr>\n",
       "  </thead>\n",
       "  <tbody>\n",
       "    <tr>\n",
       "      <th>0</th>\n",
       "      <td>0.0</td>\n",
       "      <td>0.0</td>\n",
       "      <td>1.0</td>\n",
       "      <td>0.0</td>\n",
       "      <td>0.0</td>\n",
       "      <td>0.0</td>\n",
       "      <td>0.0</td>\n",
       "      <td>0.0</td>\n",
       "      <td>0.0</td>\n",
       "      <td>0.0</td>\n",
       "      <td>...</td>\n",
       "      <td>0</td>\n",
       "      <td>0</td>\n",
       "      <td>0</td>\n",
       "      <td>0</td>\n",
       "      <td>0</td>\n",
       "      <td>0</td>\n",
       "      <td>0</td>\n",
       "      <td>0</td>\n",
       "      <td>0</td>\n",
       "      <td>0</td>\n",
       "    </tr>\n",
       "    <tr>\n",
       "      <th>1</th>\n",
       "      <td>0.0</td>\n",
       "      <td>0.0</td>\n",
       "      <td>1.0</td>\n",
       "      <td>0.0</td>\n",
       "      <td>0.0</td>\n",
       "      <td>0.0</td>\n",
       "      <td>0.0</td>\n",
       "      <td>0.0</td>\n",
       "      <td>0.0</td>\n",
       "      <td>0.0</td>\n",
       "      <td>...</td>\n",
       "      <td>0</td>\n",
       "      <td>0</td>\n",
       "      <td>0</td>\n",
       "      <td>0</td>\n",
       "      <td>0</td>\n",
       "      <td>0</td>\n",
       "      <td>0</td>\n",
       "      <td>0</td>\n",
       "      <td>0</td>\n",
       "      <td>0</td>\n",
       "    </tr>\n",
       "    <tr>\n",
       "      <th>2</th>\n",
       "      <td>0.0</td>\n",
       "      <td>0.0</td>\n",
       "      <td>1.0</td>\n",
       "      <td>0.0</td>\n",
       "      <td>0.0</td>\n",
       "      <td>1.0</td>\n",
       "      <td>0.0</td>\n",
       "      <td>0.0</td>\n",
       "      <td>0.0</td>\n",
       "      <td>0.0</td>\n",
       "      <td>...</td>\n",
       "      <td>0</td>\n",
       "      <td>0</td>\n",
       "      <td>0</td>\n",
       "      <td>0</td>\n",
       "      <td>0</td>\n",
       "      <td>0</td>\n",
       "      <td>0</td>\n",
       "      <td>0</td>\n",
       "      <td>0</td>\n",
       "      <td>0</td>\n",
       "    </tr>\n",
       "    <tr>\n",
       "      <th>3</th>\n",
       "      <td>0.0</td>\n",
       "      <td>0.0</td>\n",
       "      <td>1.0</td>\n",
       "      <td>0.0</td>\n",
       "      <td>0.0</td>\n",
       "      <td>0.0</td>\n",
       "      <td>0.0</td>\n",
       "      <td>0.0</td>\n",
       "      <td>0.0</td>\n",
       "      <td>0.0</td>\n",
       "      <td>...</td>\n",
       "      <td>0</td>\n",
       "      <td>0</td>\n",
       "      <td>0</td>\n",
       "      <td>0</td>\n",
       "      <td>0</td>\n",
       "      <td>0</td>\n",
       "      <td>0</td>\n",
       "      <td>0</td>\n",
       "      <td>0</td>\n",
       "      <td>0</td>\n",
       "    </tr>\n",
       "    <tr>\n",
       "      <th>4</th>\n",
       "      <td>0.0</td>\n",
       "      <td>0.0</td>\n",
       "      <td>0.0</td>\n",
       "      <td>1.0</td>\n",
       "      <td>0.0</td>\n",
       "      <td>0.0</td>\n",
       "      <td>0.0</td>\n",
       "      <td>0.0</td>\n",
       "      <td>0.0</td>\n",
       "      <td>0.0</td>\n",
       "      <td>...</td>\n",
       "      <td>0</td>\n",
       "      <td>0</td>\n",
       "      <td>0</td>\n",
       "      <td>0</td>\n",
       "      <td>0</td>\n",
       "      <td>0</td>\n",
       "      <td>0</td>\n",
       "      <td>0</td>\n",
       "      <td>0</td>\n",
       "      <td>0</td>\n",
       "    </tr>\n",
       "  </tbody>\n",
       "</table>\n",
       "<p>5 rows × 522 columns</p>\n",
       "</div>"
      ],
      "text/plain": [
       "   Victim_Sex_F  Victim_Sex_H  Victim_Sex_M  Victim_Sex_X  Victim_Descent_A  \\\n",
       "0           0.0           0.0           1.0           0.0               0.0   \n",
       "1           0.0           0.0           1.0           0.0               0.0   \n",
       "2           0.0           0.0           1.0           0.0               0.0   \n",
       "3           0.0           0.0           1.0           0.0               0.0   \n",
       "4           0.0           0.0           0.0           1.0               0.0   \n",
       "\n",
       "   Victim_Descent_B  Victim_Descent_C  Victim_Descent_D  Victim_Descent_F  \\\n",
       "0               0.0               0.0               0.0               0.0   \n",
       "1               0.0               0.0               0.0               0.0   \n",
       "2               1.0               0.0               0.0               0.0   \n",
       "3               0.0               0.0               0.0               0.0   \n",
       "4               0.0               0.0               0.0               0.0   \n",
       "\n",
       "   Victim_Descent_G  ...  2126  2157  2201  2204  2303  2304  3003  3004  \\\n",
       "0               0.0  ...     0     0     0     0     0     0     0     0   \n",
       "1               0.0  ...     0     0     0     0     0     0     0     0   \n",
       "2               0.0  ...     0     0     0     0     0     0     0     0   \n",
       "3               0.0  ...     0     0     0     0     0     0     0     0   \n",
       "4               0.0  ...     0     0     0     0     0     0     0     0   \n",
       "\n",
       "   4025  9999  \n",
       "0     0     0  \n",
       "1     0     0  \n",
       "2     0     0  \n",
       "3     0     0  \n",
       "4     0     0  \n",
       "\n",
       "[5 rows x 522 columns]"
      ]
     },
     "execution_count": 32,
     "metadata": {},
     "output_type": "execute_result"
    }
   ],
   "source": [
    "train_df.head()"
   ]
  },
  {
   "cell_type": "code",
   "execution_count": 33,
   "id": "f17841d5",
   "metadata": {
    "execution": {
     "iopub.execute_input": "2024-08-19T13:21:29.264348Z",
     "iopub.status.busy": "2024-08-19T13:21:29.263250Z",
     "iopub.status.idle": "2024-08-19T13:21:29.271437Z",
     "shell.execute_reply": "2024-08-19T13:21:29.270277Z"
    },
    "papermill": {
     "duration": 0.05207,
     "end_time": "2024-08-19T13:21:29.273851",
     "exception": false,
     "start_time": "2024-08-19T13:21:29.221781",
     "status": "completed"
    },
    "tags": []
   },
   "outputs": [
    {
     "data": {
      "text/plain": [
       "((20000, 522), (5000, 409))"
      ]
     },
     "execution_count": 33,
     "metadata": {},
     "output_type": "execute_result"
    }
   ],
   "source": [
    "train_df.shape, test_df.shape"
   ]
  },
  {
   "cell_type": "markdown",
   "id": "0fe1a2f8",
   "metadata": {
    "papermill": {
     "duration": 0.040159,
     "end_time": "2024-08-19T13:21:29.353682",
     "exception": false,
     "start_time": "2024-08-19T13:21:29.313523",
     "status": "completed"
    },
    "tags": []
   },
   "source": [
    "# Model Building"
   ]
  },
  {
   "cell_type": "markdown",
   "id": "f3ab08fb",
   "metadata": {
    "papermill": {
     "duration": 0.039987,
     "end_time": "2024-08-19T13:21:29.433437",
     "exception": false,
     "start_time": "2024-08-19T13:21:29.393450",
     "status": "completed"
    },
    "tags": []
   },
   "source": [
    "## Training"
   ]
  },
  {
   "cell_type": "code",
   "execution_count": 34,
   "id": "2661b612",
   "metadata": {
    "execution": {
     "iopub.execute_input": "2024-08-19T13:21:29.515804Z",
     "iopub.status.busy": "2024-08-19T13:21:29.515002Z",
     "iopub.status.idle": "2024-08-19T13:21:29.520717Z",
     "shell.execute_reply": "2024-08-19T13:21:29.519431Z"
    },
    "papermill": {
     "duration": 0.049749,
     "end_time": "2024-08-19T13:21:29.523202",
     "exception": false,
     "start_time": "2024-08-19T13:21:29.473453",
     "status": "completed"
    },
    "tags": []
   },
   "outputs": [],
   "source": [
    "# train_df.shape, test_df.shape"
   ]
  },
  {
   "cell_type": "code",
   "execution_count": 35,
   "id": "b47463f3",
   "metadata": {
    "execution": {
     "iopub.execute_input": "2024-08-19T13:21:29.606218Z",
     "iopub.status.busy": "2024-08-19T13:21:29.605731Z",
     "iopub.status.idle": "2024-08-19T13:21:29.611401Z",
     "shell.execute_reply": "2024-08-19T13:21:29.609968Z"
    },
    "papermill": {
     "duration": 0.050742,
     "end_time": "2024-08-19T13:21:29.614387",
     "exception": false,
     "start_time": "2024-08-19T13:21:29.563645",
     "status": "completed"
    },
    "tags": []
   },
   "outputs": [],
   "source": [
    "X = train_df"
   ]
  },
  {
   "cell_type": "code",
   "execution_count": 36,
   "id": "ce95b8bc",
   "metadata": {
    "execution": {
     "iopub.execute_input": "2024-08-19T13:21:29.698972Z",
     "iopub.status.busy": "2024-08-19T13:21:29.698473Z",
     "iopub.status.idle": "2024-08-19T13:21:29.812987Z",
     "shell.execute_reply": "2024-08-19T13:21:29.811684Z"
    },
    "papermill": {
     "duration": 0.161545,
     "end_time": "2024-08-19T13:21:29.816310",
     "exception": false,
     "start_time": "2024-08-19T13:21:29.654765",
     "status": "completed"
    },
    "tags": []
   },
   "outputs": [],
   "source": [
    "X_train, X_test, y_train, y_test = train_test_split(X, y, test_size=0.3, random_state=42)"
   ]
  },
  {
   "cell_type": "markdown",
   "id": "907acf1d",
   "metadata": {
    "papermill": {
     "duration": 0.039657,
     "end_time": "2024-08-19T13:21:29.896143",
     "exception": false,
     "start_time": "2024-08-19T13:21:29.856486",
     "status": "completed"
    },
    "tags": []
   },
   "source": [
    "## XGBoost"
   ]
  },
  {
   "cell_type": "code",
   "execution_count": 37,
   "id": "b2e59a4b",
   "metadata": {
    "execution": {
     "iopub.execute_input": "2024-08-19T13:21:29.980186Z",
     "iopub.status.busy": "2024-08-19T13:21:29.979645Z",
     "iopub.status.idle": "2024-08-19T13:21:29.987431Z",
     "shell.execute_reply": "2024-08-19T13:21:29.985998Z"
    },
    "papermill": {
     "duration": 0.053409,
     "end_time": "2024-08-19T13:21:29.990571",
     "exception": false,
     "start_time": "2024-08-19T13:21:29.937162",
     "status": "completed"
    },
    "tags": []
   },
   "outputs": [],
   "source": [
    "# import xgboost as xgb\n",
    "\n",
    "# from sklearn.preprocessing import LabelEncoder\n",
    "\n",
    "# # Initialize LabelEncoder\n",
    "# label_encoder = LabelEncoder()\n",
    "\n",
    "# # Fit and transform y_train and y_test\n",
    "# y_train_encoded = label_encoder.fit_transform(y_train)\n",
    "# y_test_encoded = label_encoder.transform(y_test)\n",
    "\n",
    "# # Initialize the XGBoost classifier\n",
    "# xgb_model = xgb.XGBClassifier(use_label_encoder=False, eval_metric='mlogloss')\n",
    "\n",
    "# # Fit the model on the encoded training data\n",
    "# xgb_model.fit(X_train, y_train_encoded)\n",
    "\n",
    "# # Predict on the encoded test data\n",
    "# y_pred_encoded = xgb_model.predict(X_test)\n",
    "\n",
    "# # Decode predictions back to original labels\n",
    "# y_pred = label_encoder.inverse_transform(y_pred_encoded)\n",
    "\n",
    "# # Calculate accuracy\n",
    "# accuracy = accuracy_score(y_test, y_pred)\n",
    "\n",
    "# # Print accuracy\n",
    "# print(\"Accuracy:\", accuracy)\n",
    "\n",
    "\n",
    "# report = classification_report(y_test, y_pred)\n",
    "# print(report)\n",
    "# # 0.9558"
   ]
  },
  {
   "cell_type": "markdown",
   "id": "deaf227d",
   "metadata": {
    "papermill": {
     "duration": 0.041682,
     "end_time": "2024-08-19T13:21:30.072703",
     "exception": false,
     "start_time": "2024-08-19T13:21:30.031021",
     "status": "completed"
    },
    "tags": []
   },
   "source": [
    "| Category                        | Precision | Recall | F1-Score | Support |\n",
    "|---------------------------------|-----------|--------|----------|---------|\n",
    "| Crimes against Persons          | 0.75      | 0.77   | 0.76     | 57      |\n",
    "| Crimes against Public Order      | 0.83      | 0.87   | 0.85     | 543     |\n",
    "| Fraud and White-Collar Crimes   | 0.96      | 0.92   | 0.94     | 422     |\n",
    "| Other Crimes                    | 0.48      | 0.24   | 0.32     | 55      |\n",
    "| Property Crimes                 | 0.99      | 0.99   | 0.99     | 3461    |\n",
    "| Violent Crimes                  | 0.94      | 0.96   | 0.95     | 1462    |\n",
    "| **Accuracy**                    |           |        | 0.96     | 6000    |\n",
    "| **Macro Avg**                   | 0.82      | 0.79   | 0.80     | 6000    |\n",
    "| **Weighted Avg**                | 0.95      | 0.96   | 0.96     | 6000    |\n"
   ]
  },
  {
   "cell_type": "markdown",
   "id": "9e534288",
   "metadata": {
    "papermill": {
     "duration": 0.038864,
     "end_time": "2024-08-19T13:21:30.151883",
     "exception": false,
     "start_time": "2024-08-19T13:21:30.113019",
     "status": "completed"
    },
    "tags": []
   },
   "source": [
    "## XGBoost Hyper Parameter Tuning"
   ]
  },
  {
   "cell_type": "code",
   "execution_count": 38,
   "id": "99803acf",
   "metadata": {
    "execution": {
     "iopub.execute_input": "2024-08-19T13:21:30.233857Z",
     "iopub.status.busy": "2024-08-19T13:21:30.233397Z",
     "iopub.status.idle": "2024-08-19T13:21:30.240637Z",
     "shell.execute_reply": "2024-08-19T13:21:30.239442Z"
    },
    "papermill": {
     "duration": 0.051387,
     "end_time": "2024-08-19T13:21:30.243356",
     "exception": false,
     "start_time": "2024-08-19T13:21:30.191969",
     "status": "completed"
    },
    "tags": []
   },
   "outputs": [],
   "source": [
    "# # Initialize LabelEncoder\n",
    "# label_encoder = LabelEncoder()\n",
    "\n",
    "# # Fit and transform y_train and y_test\n",
    "# y_train_encoded = label_encoder.fit_transform(y_train)\n",
    "# y_test_encoded = label_encoder.transform(y_test)\n",
    "\n",
    "# # Initialize the XGBoost classifier\n",
    "# xgb_model = xgb.XGBClassifier(use_label_encoder=False, eval_metric='mlogloss')\n",
    "\n",
    "# # Define the hyperparameter grid to search\n",
    "# param_dist = {\n",
    "#     'n_estimators': np.arange(50, 300, 50),\n",
    "#     'max_depth': np.arange(3, 10),\n",
    "#     'learning_rate': np.linspace(0.01, 0.3, 10),\n",
    "#     'subsample': np.linspace(0.6, 1.0, 5),\n",
    "#     'colsample_bytree': np.linspace(0.6, 1.0, 5),\n",
    "# }\n",
    "\n",
    "# # Initialize RandomizedSearchCV\n",
    "# random_search = RandomizedSearchCV(\n",
    "#     estimator=xgb_model,\n",
    "#     param_distributions=param_dist,\n",
    "#     n_iter=5,  # Number of parameter settings sampled\n",
    "#     scoring='accuracy',\n",
    "#     cv=3,  # 3-fold cross-validation\n",
    "#     verbose=1,\n",
    "#     random_state=42,\n",
    "#     n_jobs=-1  # Use all available cores\n",
    "# )\n",
    "\n",
    "# # Fit RandomizedSearchCV\n",
    "# random_search.fit(X_train, y_train_encoded)\n",
    "\n",
    "# # Get the best model\n",
    "# best_model = random_search.best_estimator_\n",
    "\n",
    "# # Predict on the encoded test data using the best model\n",
    "# y_pred_encoded = best_model.predict(X_test)\n",
    "\n",
    "# # Decode predictions back to original labels\n",
    "# y_pred = label_encoder.inverse_transform(y_pred_encoded)\n",
    "\n",
    "# # Calculate accuracy\n",
    "# accuracy = accuracy_score(y_test, y_pred)\n",
    "\n",
    "# # Print accuracy and best parameters\n",
    "# print(\"Best Parameters:\", random_search.best_params_)\n",
    "# print(\"Accuracy:\", accuracy)\n",
    "\n",
    "# # 0.95510"
   ]
  },
  {
   "cell_type": "markdown",
   "id": "23b31949",
   "metadata": {
    "papermill": {
     "duration": 0.039053,
     "end_time": "2024-08-19T13:21:30.322782",
     "exception": false,
     "start_time": "2024-08-19T13:21:30.283729",
     "status": "completed"
    },
    "tags": []
   },
   "source": [
    "| Model Accuracy | Before Tuning | After Tuning |\n",
    "|----------------|---------------|--------------|\n",
    "| Accuracy       | 0.9580        | 0.95510       |\n"
   ]
  },
  {
   "cell_type": "markdown",
   "id": "2d6878ff",
   "metadata": {
    "papermill": {
     "duration": 0.039602,
     "end_time": "2024-08-19T13:21:30.403146",
     "exception": false,
     "start_time": "2024-08-19T13:21:30.363544",
     "status": "completed"
    },
    "tags": []
   },
   "source": [
    "## Logistic Regression"
   ]
  },
  {
   "cell_type": "code",
   "execution_count": 39,
   "id": "8df839f9",
   "metadata": {
    "execution": {
     "iopub.execute_input": "2024-08-19T13:21:30.486510Z",
     "iopub.status.busy": "2024-08-19T13:21:30.485979Z",
     "iopub.status.idle": "2024-08-19T13:21:30.492204Z",
     "shell.execute_reply": "2024-08-19T13:21:30.490865Z"
    },
    "papermill": {
     "duration": 0.051212,
     "end_time": "2024-08-19T13:21:30.494912",
     "exception": false,
     "start_time": "2024-08-19T13:21:30.443700",
     "status": "completed"
    },
    "tags": []
   },
   "outputs": [],
   "source": [
    "# log_reg_model = LogisticRegression(C=1, solver='newton-cg')\n",
    "# log_reg_model.fit(X_train, y_train)\n",
    "# y_pred = log_reg_model.predict(X_test)\n",
    "# accuracy = accuracy_score(y_test, y_pred)\n",
    "# print(\"Accuracy:\", accuracy)\n",
    "# # 94.383"
   ]
  },
  {
   "cell_type": "markdown",
   "id": "66232e4d",
   "metadata": {
    "papermill": {
     "duration": 0.038937,
     "end_time": "2024-08-19T13:21:30.574110",
     "exception": false,
     "start_time": "2024-08-19T13:21:30.535173",
     "status": "completed"
    },
    "tags": []
   },
   "source": [
    "| Category                         | Precision | Recall | F1-Score | Support |\n",
    "|----------------------------------|-----------|--------|----------|---------|\n",
    "| Crimes against Persons           | 0.61      | 0.44   | 0.51     | 57      |\n",
    "| Crimes against Public Order      | 0.81      | 0.83   | 0.82     | 543     |\n",
    "| Fraud and White-Collar Crimes    | 0.94      | 0.95   | 0.94     | 422     |\n",
    "| Other Crimes                     | 0.52      | 0.20   | 0.29     | 55      |\n",
    "| Property Crimes                  | 0.98      | 0.98   | 0.98     | 3461    |\n",
    "| Violent Crimes                   | 0.92      | 0.94   | 0.93     | 1462    |\n",
    "|                                  |           |        |          |         |\n",
    "| **Accuracy**                     |           |        | 0.94     | 6000    |\n",
    "| **Macro avg**                    | 0.80      | 0.72   | 0.75     | 6000    |\n",
    "| **Weighted avg**                 | 0.94      | 0.94   | 0.94     | 6000    |\n"
   ]
  },
  {
   "cell_type": "markdown",
   "id": "36deba5a",
   "metadata": {
    "papermill": {
     "duration": 0.039142,
     "end_time": "2024-08-19T13:21:30.652585",
     "exception": false,
     "start_time": "2024-08-19T13:21:30.613443",
     "status": "completed"
    },
    "tags": []
   },
   "source": [
    "## RandomForestClassifier"
   ]
  },
  {
   "cell_type": "code",
   "execution_count": 40,
   "id": "3ac22dc9",
   "metadata": {
    "execution": {
     "iopub.execute_input": "2024-08-19T13:21:30.735410Z",
     "iopub.status.busy": "2024-08-19T13:21:30.734915Z",
     "iopub.status.idle": "2024-08-19T13:21:30.740946Z",
     "shell.execute_reply": "2024-08-19T13:21:30.739515Z"
    },
    "papermill": {
     "duration": 0.050224,
     "end_time": "2024-08-19T13:21:30.743953",
     "exception": false,
     "start_time": "2024-08-19T13:21:30.693729",
     "status": "completed"
    },
    "tags": []
   },
   "outputs": [],
   "source": [
    "# from sklearn.ensemble import RandomForestClassifier\n",
    "\n",
    "# # Initialize and train model\n",
    "# model = RandomForestClassifier()\n",
    "# model.fit(X_train, y_train)\n",
    "\n",
    "# # Predict and evaluate\n",
    "# y_pred = model.predict(X_test)\n",
    "# print(\"Random Forest Accuracy:\", accuracy_score(y_test, y_pred))\n",
    "# #  0.9453"
   ]
  },
  {
   "cell_type": "markdown",
   "id": "317cda9e",
   "metadata": {
    "papermill": {
     "duration": 0.042204,
     "end_time": "2024-08-19T13:21:30.827151",
     "exception": false,
     "start_time": "2024-08-19T13:21:30.784947",
     "status": "completed"
    },
    "tags": []
   },
   "source": [
    "| Category                         | Precision | Recall | F1-Score | Support |\n",
    "|----------------------------------|-----------|--------|----------|---------|\n",
    "| Crimes against Persons           | 0.71      | 0.26   | 0.38     | 57      |\n",
    "| Crimes against Public Order      | 0.86      | 0.79   | 0.83     | 543     |\n",
    "| Fraud and White-Collar Crimes    | 0.94      | 0.91   | 0.93     | 422     |\n",
    "| Other Crimes                     | 0.50      | 0.07   | 0.13     | 55      |\n",
    "| Property Crimes                  | 0.98      | 0.98   | 0.98     | 3461    |\n",
    "| Violent Crimes                   | 0.90      | 0.98   | 0.94     | 1462    |\n",
    "|                                  |           |        |          |         |\n",
    "| **Accuracy**                     |           |        | 0.94     | 6000    |\n",
    "| **Macro avg**                    | 0.82      | 0.67   | 0.70     | 6000    |\n",
    "| **Weighted avg**                 | 0.94      | 0.94   | 0.94     | 6000    |\n"
   ]
  },
  {
   "cell_type": "markdown",
   "id": "2c8d2362",
   "metadata": {
    "papermill": {
     "duration": 0.039678,
     "end_time": "2024-08-19T13:21:30.909638",
     "exception": false,
     "start_time": "2024-08-19T13:21:30.869960",
     "status": "completed"
    },
    "tags": []
   },
   "source": [
    "## GradientBoostingClassifier"
   ]
  },
  {
   "cell_type": "code",
   "execution_count": 41,
   "id": "a7604a1c",
   "metadata": {
    "execution": {
     "iopub.execute_input": "2024-08-19T13:21:30.993712Z",
     "iopub.status.busy": "2024-08-19T13:21:30.993243Z",
     "iopub.status.idle": "2024-08-19T13:21:30.999053Z",
     "shell.execute_reply": "2024-08-19T13:21:30.997641Z"
    },
    "papermill": {
     "duration": 0.051543,
     "end_time": "2024-08-19T13:21:31.002403",
     "exception": false,
     "start_time": "2024-08-19T13:21:30.950860",
     "status": "completed"
    },
    "tags": []
   },
   "outputs": [],
   "source": [
    "# from sklearn.ensemble import GradientBoostingClassifier\n",
    "\n",
    "# # Initialize and train model\n",
    "# model = GradientBoostingClassifier()\n",
    "# model.fit(X_train, y_train)\n",
    "\n",
    "# # Predict and evaluate\n",
    "# y_pred = model.predict(X_test)\n",
    "# print(\"Gradient Boosting Accuracy:\", accuracy_score(y_test, y_pred))\n",
    "# ## 0.951\n",
    "# report = classification_report(y_test, y_pred)\n",
    "# print(report)"
   ]
  },
  {
   "cell_type": "markdown",
   "id": "c46ca859",
   "metadata": {
    "papermill": {
     "duration": 0.039397,
     "end_time": "2024-08-19T13:21:31.082230",
     "exception": false,
     "start_time": "2024-08-19T13:21:31.042833",
     "status": "completed"
    },
    "tags": []
   },
   "source": [
    "| Category                         | Precision | Recall | F1-Score | Support |\n",
    "|----------------------------------|-----------|--------|----------|---------|\n",
    "| Crimes against Persons           | 0.67      | 0.68   | 0.68     | 57      |\n",
    "| Crimes against Public Order      | 0.83      | 0.85   | 0.84     | 543     |\n",
    "| Fraud and White-Collar Crimes    | 0.96      | 0.93   | 0.94     | 422     |\n",
    "| Other Crimes                     | 0.48      | 0.24   | 0.32     | 55      |\n",
    "| Property Crimes                  | 0.99      | 0.99   | 0.99     | 3461    |\n",
    "| Violent Crimes                   | 0.94      | 0.96   | 0.95     | 1462    |\n",
    "|                                  |           |        |          |         |\n",
    "| **Accuracy**                     |           |        | 0.95     | 6000    |\n",
    "| **Macro avg**                    | 0.81      | 0.77   | 0.78     | 6000    |\n",
    "| **Weighted avg**                 | 0.95      | 0.95   | 0.95     | 6000    |\n"
   ]
  },
  {
   "cell_type": "markdown",
   "id": "2a0dbb63",
   "metadata": {
    "papermill": {
     "duration": 0.04339,
     "end_time": "2024-08-19T13:21:31.166620",
     "exception": false,
     "start_time": "2024-08-19T13:21:31.123230",
     "status": "completed"
    },
    "tags": []
   },
   "source": [
    "## ExtraTreesClassifier"
   ]
  },
  {
   "cell_type": "code",
   "execution_count": 42,
   "id": "a292fb0b",
   "metadata": {
    "execution": {
     "iopub.execute_input": "2024-08-19T13:21:31.253986Z",
     "iopub.status.busy": "2024-08-19T13:21:31.253542Z",
     "iopub.status.idle": "2024-08-19T13:21:31.259814Z",
     "shell.execute_reply": "2024-08-19T13:21:31.258437Z"
    },
    "papermill": {
     "duration": 0.054855,
     "end_time": "2024-08-19T13:21:31.262788",
     "exception": false,
     "start_time": "2024-08-19T13:21:31.207933",
     "status": "completed"
    },
    "tags": []
   },
   "outputs": [],
   "source": [
    "# from sklearn.ensemble import ExtraTreesClassifier\n",
    "\n",
    "# # Initialize and train model\n",
    "# model = ExtraTreesClassifier()\n",
    "# model.fit(X_train, y_train)\n",
    "\n",
    "# # Predict and evaluate\n",
    "# y_pred = model.predict(X_test)\n",
    "# print(\"Extra Trees Accuracy:\", accuracy_score(y_test, y_pred))\n",
    "# # # 0.95033\n",
    "# report = classification_report(y_test, y_pred)\n",
    "# print(report)"
   ]
  },
  {
   "cell_type": "markdown",
   "id": "c5fabcef",
   "metadata": {
    "papermill": {
     "duration": 0.039163,
     "end_time": "2024-08-19T13:21:31.341798",
     "exception": false,
     "start_time": "2024-08-19T13:21:31.302635",
     "status": "completed"
    },
    "tags": []
   },
   "source": [
    "|                           | Precision | Recall | F1-Score | Support |\n",
    "|---------------------------|-----------|--------|----------|---------|\n",
    "| Crimes against Persons    | 0.75      | 0.32   | 0.44     | 57      |\n",
    "| Crimes against Public Order | 0.86      | 0.82   | 0.84     | 543     |\n",
    "| Fraud and White-Collar Crimes | 0.95      | 0.92   | 0.93     | 422     |\n",
    "| Other Crimes              | 0.67      | 0.11   | 0.19     | 55      |\n",
    "| Property Crimes           | 0.98      | 0.99   | 0.99     | 3461    |\n",
    "| Violent Crimes            | 0.90      | 0.97   | 0.93     | 1462    |\n",
    "| **Accuracy**              |           |        | 0.95     | 6000    |\n",
    "| **Macro Avg**             | 0.85      | 0.69   | 0.72     | 6000    |\n",
    "| **Weighted Avg**          | 0.94      | 0.95   | 0.94     | 6000    |\n"
   ]
  },
  {
   "cell_type": "markdown",
   "id": "e3d11be0",
   "metadata": {
    "papermill": {
     "duration": 0.039147,
     "end_time": "2024-08-19T13:21:31.421639",
     "exception": false,
     "start_time": "2024-08-19T13:21:31.382492",
     "status": "completed"
    },
    "tags": []
   },
   "source": [
    "## Comparision of models:"
   ]
  },
  {
   "cell_type": "markdown",
   "id": "75eca223",
   "metadata": {
    "papermill": {
     "duration": 0.039043,
     "end_time": "2024-08-19T13:21:31.500302",
     "exception": false,
     "start_time": "2024-08-19T13:21:31.461259",
     "status": "completed"
    },
    "tags": []
   },
   "source": [
    "### Precision (TP/TP+FP):"
   ]
  },
  {
   "cell_type": "markdown",
   "id": "e5bb38a6",
   "metadata": {
    "papermill": {
     "duration": 0.039044,
     "end_time": "2024-08-19T13:21:31.578577",
     "exception": false,
     "start_time": "2024-08-19T13:21:31.539533",
     "status": "completed"
    },
    "tags": []
   },
   "source": [
    "| Category                      | XGBoost | Logistic Regression | RandomForestClassifier | GradientBoostingClassifier | ExtraTreesClassifier |\n",
    "|-------------------------------|---------|---------------------|------------------------|----------------------------|----------------------|\n",
    "| Crimes against Persons        | 0.75    | 0.61                | 0.71                   | 0.67                       | 0.75                 |\n",
    "| Crimes against Public Order   | 0.83    | 0.81                | 0.86                   | 0.83                       | 0.86                 |\n",
    "| Fraud and White-Collar Crimes | 0.96    | 0.94                | 0.94                   | 0.96                       | 0.95                 |\n",
    "| Other Crimes                  | 0.48    | 0.52                | 0.50                   | 0.48                       | 0.67                 |\n",
    "| Property Crimes               | 0.99    | 0.98                | 0.98                   | 0.99                       | 0.98                 |\n",
    "| Violent Crimes                | 0.94    | 0.92                | 0.90                   | 0.94                       | 0.90                 |\n"
   ]
  },
  {
   "cell_type": "markdown",
   "id": "6f85b9bc",
   "metadata": {
    "papermill": {
     "duration": 0.040681,
     "end_time": "2024-08-19T13:21:31.660530",
     "exception": false,
     "start_time": "2024-08-19T13:21:31.619849",
     "status": "completed"
    },
    "tags": []
   },
   "source": [
    "\n",
    "#### XGBoost and GradientBoostingClassifer achieve highest Precision for Property Crimes (0.99).\n",
    "#### GradientBoostingClassifer and Logistic Regression perform worse on Crime against Persons.\n",
    "#### ExtraTreesClassifer seem more balanced than other models as far as Precision is concerned."
   ]
  },
  {
   "cell_type": "markdown",
   "id": "4d96d134",
   "metadata": {
    "papermill": {
     "duration": 0.039494,
     "end_time": "2024-08-19T13:21:31.743433",
     "exception": false,
     "start_time": "2024-08-19T13:21:31.703939",
     "status": "completed"
    },
    "tags": []
   },
   "source": [
    "### Recall (TP/TP+FN):"
   ]
  },
  {
   "cell_type": "markdown",
   "id": "13f2f0d3",
   "metadata": {
    "papermill": {
     "duration": 0.039442,
     "end_time": "2024-08-19T13:21:31.823720",
     "exception": false,
     "start_time": "2024-08-19T13:21:31.784278",
     "status": "completed"
    },
    "tags": []
   },
   "source": [
    "| Category                      | XGBoost | Logistic Regression | RandomForestClassifier | GradientBoostingClassifier | ExtraTreesClassifier |\n",
    "|-------------------------------|---------|---------------------|------------------------|----------------------------|----------------------|\n",
    "| Crimes against Persons        | 0.77    | 0.44                | 0.26                   | 0.68                       | 0.32                 |\n",
    "| Crimes against Public Order   | 0.87    | 0.83                | 0.79                   | 0.85                       | 0.82                 |\n",
    "| Fraud and White-Collar Crimes | 0.92    | 0.95                | 0.91                   | 0.93                       | 0.92                 |\n",
    "| Other Crimes                  | 0.24    | 0.20                | 0.07                   | 0.24                       | 0.11                 |\n",
    "| Property Crimes               | 0.99    | 0.98                | 0.98                   | 0.99                       | 0.99                 |\n",
    "| Violent Crimes                | 0.96    | 0.94                | 0.98                   | 0.96                       | 0.97                 |\n"
   ]
  },
  {
   "cell_type": "markdown",
   "id": "587a542c",
   "metadata": {
    "papermill": {
     "duration": 0.039422,
     "end_time": "2024-08-19T13:21:31.903063",
     "exception": false,
     "start_time": "2024-08-19T13:21:31.863641",
     "status": "completed"
    },
    "tags": []
   },
   "source": [
    "#### RandomForestClassifier performs the worst for Crimes against Persons (0.26) and Other Crimes (0.07), suggesting it might be missing many actual cases of these categories.\n",
    "\n",
    "#### XGBost seems very much balanced in terms of Recall."
   ]
  },
  {
   "cell_type": "markdown",
   "id": "feb36430",
   "metadata": {
    "papermill": {
     "duration": 0.040431,
     "end_time": "2024-08-19T13:21:31.983438",
     "exception": false,
     "start_time": "2024-08-19T13:21:31.943007",
     "status": "completed"
    },
    "tags": []
   },
   "source": [
    "### F-1 Score (2 x Precision x Recall)/(Precison+Recall) :"
   ]
  },
  {
   "cell_type": "markdown",
   "id": "dc0ff5e2",
   "metadata": {
    "papermill": {
     "duration": 0.040844,
     "end_time": "2024-08-19T13:21:32.064815",
     "exception": false,
     "start_time": "2024-08-19T13:21:32.023971",
     "status": "completed"
    },
    "tags": []
   },
   "source": [
    "| Category                      | XGBoost | Logistic Regression | RandomForestClassifier | GradientBoostingClassifier | ExtraTreesClassifier |\n",
    "|-------------------------------|---------|---------------------|------------------------|----------------------------|----------------------|\n",
    "| Crimes against Persons        | 0.76    | 0.51                | 0.38                   | 0.68                       | 0.44                 |\n",
    "| Crimes against Public Order   | 0.85    | 0.82                | 0.83                   | 0.84                       | 0.84                 |\n",
    "| Fraud and White-Collar Crimes | 0.94    | 0.94                | 0.93                   | 0.94                       | 0.93                 |\n",
    "| Other Crimes                  | 0.32    | 0.29                | 0.13                   | 0.32                       | 0.19                 |\n",
    "| Property Crimes               | 0.99    | 0.98                | 0.98                   | 0.99                       | 0.99                 |\n",
    "| Violent Crimes                | 0.95    | 0.93                | 0.94                   | 0.95                       | 0.93                 |\n"
   ]
  },
  {
   "cell_type": "markdown",
   "id": "46c6a450",
   "metadata": {
    "papermill": {
     "duration": 0.04014,
     "end_time": "2024-08-19T13:21:32.145052",
     "exception": false,
     "start_time": "2024-08-19T13:21:32.104912",
     "status": "completed"
    },
    "tags": []
   },
   "source": [
    "#### RandomForestClassifier also seems to be performing worse in terms of F-1 Score.\n",
    "#### XGBoost performs the best in every category in F-1 Score.\n",
    "\n",
    "### Overall XGBoost seems like a well balanced algorithm for our model considering all of the above metrics."
   ]
  },
  {
   "cell_type": "markdown",
   "id": "a2714c90",
   "metadata": {
    "papermill": {
     "duration": 0.039687,
     "end_time": "2024-08-19T13:21:32.224938",
     "exception": false,
     "start_time": "2024-08-19T13:21:32.185251",
     "status": "completed"
    },
    "tags": []
   },
   "source": [
    "# Submission"
   ]
  },
  {
   "cell_type": "markdown",
   "id": "75e25382",
   "metadata": {
    "papermill": {
     "duration": 0.038612,
     "end_time": "2024-08-19T13:21:32.302475",
     "exception": false,
     "start_time": "2024-08-19T13:21:32.263863",
     "status": "completed"
    },
    "tags": []
   },
   "source": [
    "## Load the data"
   ]
  },
  {
   "cell_type": "code",
   "execution_count": 43,
   "id": "543cf8c9",
   "metadata": {
    "execution": {
     "iopub.execute_input": "2024-08-19T13:21:32.382153Z",
     "iopub.status.busy": "2024-08-19T13:21:32.381727Z",
     "iopub.status.idle": "2024-08-19T13:21:32.387799Z",
     "shell.execute_reply": "2024-08-19T13:21:32.386471Z"
    },
    "papermill": {
     "duration": 0.049617,
     "end_time": "2024-08-19T13:21:32.390417",
     "exception": false,
     "start_time": "2024-08-19T13:21:32.340800",
     "status": "completed"
    },
    "tags": []
   },
   "outputs": [],
   "source": [
    "X = train_df\n",
    "X_test = test_df"
   ]
  },
  {
   "cell_type": "code",
   "execution_count": 44,
   "id": "60d18a5c",
   "metadata": {
    "execution": {
     "iopub.execute_input": "2024-08-19T13:21:32.469422Z",
     "iopub.status.busy": "2024-08-19T13:21:32.469002Z",
     "iopub.status.idle": "2024-08-19T13:21:32.474542Z",
     "shell.execute_reply": "2024-08-19T13:21:32.473060Z"
    },
    "papermill": {
     "duration": 0.04787,
     "end_time": "2024-08-19T13:21:32.477202",
     "exception": false,
     "start_time": "2024-08-19T13:21:32.429332",
     "status": "completed"
    },
    "tags": []
   },
   "outputs": [],
   "source": [
    "# X.shape, X_test.shape"
   ]
  },
  {
   "cell_type": "code",
   "execution_count": 45,
   "id": "aace175d",
   "metadata": {
    "execution": {
     "iopub.execute_input": "2024-08-19T13:21:32.560939Z",
     "iopub.status.busy": "2024-08-19T13:21:32.560560Z",
     "iopub.status.idle": "2024-08-19T13:21:32.644197Z",
     "shell.execute_reply": "2024-08-19T13:21:32.642716Z"
    },
    "papermill": {
     "duration": 0.128792,
     "end_time": "2024-08-19T13:21:32.648138",
     "exception": false,
     "start_time": "2024-08-19T13:21:32.519346",
     "status": "completed"
    },
    "tags": []
   },
   "outputs": [
    {
     "name": "stderr",
     "output_type": "stream",
     "text": [
      "/tmp/ipykernel_19/2256086796.py:9: PerformanceWarning: DataFrame is highly fragmented.  This is usually the result of calling `frame.insert` many times, which has poor performance.  Consider joining all columns at once using pd.concat(axis=1) instead. To get a de-fragmented frame, use `newframe = frame.copy()`\n",
      "  X_test[col] = 0\n",
      "/tmp/ipykernel_19/2256086796.py:9: PerformanceWarning: DataFrame is highly fragmented.  This is usually the result of calling `frame.insert` many times, which has poor performance.  Consider joining all columns at once using pd.concat(axis=1) instead. To get a de-fragmented frame, use `newframe = frame.copy()`\n",
      "  X_test[col] = 0\n",
      "/tmp/ipykernel_19/2256086796.py:9: PerformanceWarning: DataFrame is highly fragmented.  This is usually the result of calling `frame.insert` many times, which has poor performance.  Consider joining all columns at once using pd.concat(axis=1) instead. To get a de-fragmented frame, use `newframe = frame.copy()`\n",
      "  X_test[col] = 0\n",
      "/tmp/ipykernel_19/2256086796.py:9: PerformanceWarning: DataFrame is highly fragmented.  This is usually the result of calling `frame.insert` many times, which has poor performance.  Consider joining all columns at once using pd.concat(axis=1) instead. To get a de-fragmented frame, use `newframe = frame.copy()`\n",
      "  X_test[col] = 0\n",
      "/tmp/ipykernel_19/2256086796.py:9: PerformanceWarning: DataFrame is highly fragmented.  This is usually the result of calling `frame.insert` many times, which has poor performance.  Consider joining all columns at once using pd.concat(axis=1) instead. To get a de-fragmented frame, use `newframe = frame.copy()`\n",
      "  X_test[col] = 0\n",
      "/tmp/ipykernel_19/2256086796.py:9: PerformanceWarning: DataFrame is highly fragmented.  This is usually the result of calling `frame.insert` many times, which has poor performance.  Consider joining all columns at once using pd.concat(axis=1) instead. To get a de-fragmented frame, use `newframe = frame.copy()`\n",
      "  X_test[col] = 0\n",
      "/tmp/ipykernel_19/2256086796.py:9: PerformanceWarning: DataFrame is highly fragmented.  This is usually the result of calling `frame.insert` many times, which has poor performance.  Consider joining all columns at once using pd.concat(axis=1) instead. To get a de-fragmented frame, use `newframe = frame.copy()`\n",
      "  X_test[col] = 0\n",
      "/tmp/ipykernel_19/2256086796.py:9: PerformanceWarning: DataFrame is highly fragmented.  This is usually the result of calling `frame.insert` many times, which has poor performance.  Consider joining all columns at once using pd.concat(axis=1) instead. To get a de-fragmented frame, use `newframe = frame.copy()`\n",
      "  X_test[col] = 0\n",
      "/tmp/ipykernel_19/2256086796.py:9: PerformanceWarning: DataFrame is highly fragmented.  This is usually the result of calling `frame.insert` many times, which has poor performance.  Consider joining all columns at once using pd.concat(axis=1) instead. To get a de-fragmented frame, use `newframe = frame.copy()`\n",
      "  X_test[col] = 0\n",
      "/tmp/ipykernel_19/2256086796.py:9: PerformanceWarning: DataFrame is highly fragmented.  This is usually the result of calling `frame.insert` many times, which has poor performance.  Consider joining all columns at once using pd.concat(axis=1) instead. To get a de-fragmented frame, use `newframe = frame.copy()`\n",
      "  X_test[col] = 0\n",
      "/tmp/ipykernel_19/2256086796.py:9: PerformanceWarning: DataFrame is highly fragmented.  This is usually the result of calling `frame.insert` many times, which has poor performance.  Consider joining all columns at once using pd.concat(axis=1) instead. To get a de-fragmented frame, use `newframe = frame.copy()`\n",
      "  X_test[col] = 0\n",
      "/tmp/ipykernel_19/2256086796.py:9: PerformanceWarning: DataFrame is highly fragmented.  This is usually the result of calling `frame.insert` many times, which has poor performance.  Consider joining all columns at once using pd.concat(axis=1) instead. To get a de-fragmented frame, use `newframe = frame.copy()`\n",
      "  X_test[col] = 0\n",
      "/tmp/ipykernel_19/2256086796.py:9: PerformanceWarning: DataFrame is highly fragmented.  This is usually the result of calling `frame.insert` many times, which has poor performance.  Consider joining all columns at once using pd.concat(axis=1) instead. To get a de-fragmented frame, use `newframe = frame.copy()`\n",
      "  X_test[col] = 0\n",
      "/tmp/ipykernel_19/2256086796.py:9: PerformanceWarning: DataFrame is highly fragmented.  This is usually the result of calling `frame.insert` many times, which has poor performance.  Consider joining all columns at once using pd.concat(axis=1) instead. To get a de-fragmented frame, use `newframe = frame.copy()`\n",
      "  X_test[col] = 0\n",
      "/tmp/ipykernel_19/2256086796.py:9: PerformanceWarning: DataFrame is highly fragmented.  This is usually the result of calling `frame.insert` many times, which has poor performance.  Consider joining all columns at once using pd.concat(axis=1) instead. To get a de-fragmented frame, use `newframe = frame.copy()`\n",
      "  X_test[col] = 0\n",
      "/tmp/ipykernel_19/2256086796.py:9: PerformanceWarning: DataFrame is highly fragmented.  This is usually the result of calling `frame.insert` many times, which has poor performance.  Consider joining all columns at once using pd.concat(axis=1) instead. To get a de-fragmented frame, use `newframe = frame.copy()`\n",
      "  X_test[col] = 0\n",
      "/tmp/ipykernel_19/2256086796.py:9: PerformanceWarning: DataFrame is highly fragmented.  This is usually the result of calling `frame.insert` many times, which has poor performance.  Consider joining all columns at once using pd.concat(axis=1) instead. To get a de-fragmented frame, use `newframe = frame.copy()`\n",
      "  X_test[col] = 0\n",
      "/tmp/ipykernel_19/2256086796.py:9: PerformanceWarning: DataFrame is highly fragmented.  This is usually the result of calling `frame.insert` many times, which has poor performance.  Consider joining all columns at once using pd.concat(axis=1) instead. To get a de-fragmented frame, use `newframe = frame.copy()`\n",
      "  X_test[col] = 0\n",
      "/tmp/ipykernel_19/2256086796.py:9: PerformanceWarning: DataFrame is highly fragmented.  This is usually the result of calling `frame.insert` many times, which has poor performance.  Consider joining all columns at once using pd.concat(axis=1) instead. To get a de-fragmented frame, use `newframe = frame.copy()`\n",
      "  X_test[col] = 0\n",
      "/tmp/ipykernel_19/2256086796.py:9: PerformanceWarning: DataFrame is highly fragmented.  This is usually the result of calling `frame.insert` many times, which has poor performance.  Consider joining all columns at once using pd.concat(axis=1) instead. To get a de-fragmented frame, use `newframe = frame.copy()`\n",
      "  X_test[col] = 0\n",
      "/tmp/ipykernel_19/2256086796.py:9: PerformanceWarning: DataFrame is highly fragmented.  This is usually the result of calling `frame.insert` many times, which has poor performance.  Consider joining all columns at once using pd.concat(axis=1) instead. To get a de-fragmented frame, use `newframe = frame.copy()`\n",
      "  X_test[col] = 0\n",
      "/tmp/ipykernel_19/2256086796.py:9: PerformanceWarning: DataFrame is highly fragmented.  This is usually the result of calling `frame.insert` many times, which has poor performance.  Consider joining all columns at once using pd.concat(axis=1) instead. To get a de-fragmented frame, use `newframe = frame.copy()`\n",
      "  X_test[col] = 0\n",
      "/tmp/ipykernel_19/2256086796.py:9: PerformanceWarning: DataFrame is highly fragmented.  This is usually the result of calling `frame.insert` many times, which has poor performance.  Consider joining all columns at once using pd.concat(axis=1) instead. To get a de-fragmented frame, use `newframe = frame.copy()`\n",
      "  X_test[col] = 0\n",
      "/tmp/ipykernel_19/2256086796.py:9: PerformanceWarning: DataFrame is highly fragmented.  This is usually the result of calling `frame.insert` many times, which has poor performance.  Consider joining all columns at once using pd.concat(axis=1) instead. To get a de-fragmented frame, use `newframe = frame.copy()`\n",
      "  X_test[col] = 0\n",
      "/tmp/ipykernel_19/2256086796.py:9: PerformanceWarning: DataFrame is highly fragmented.  This is usually the result of calling `frame.insert` many times, which has poor performance.  Consider joining all columns at once using pd.concat(axis=1) instead. To get a de-fragmented frame, use `newframe = frame.copy()`\n",
      "  X_test[col] = 0\n",
      "/tmp/ipykernel_19/2256086796.py:9: PerformanceWarning: DataFrame is highly fragmented.  This is usually the result of calling `frame.insert` many times, which has poor performance.  Consider joining all columns at once using pd.concat(axis=1) instead. To get a de-fragmented frame, use `newframe = frame.copy()`\n",
      "  X_test[col] = 0\n",
      "/tmp/ipykernel_19/2256086796.py:9: PerformanceWarning: DataFrame is highly fragmented.  This is usually the result of calling `frame.insert` many times, which has poor performance.  Consider joining all columns at once using pd.concat(axis=1) instead. To get a de-fragmented frame, use `newframe = frame.copy()`\n",
      "  X_test[col] = 0\n",
      "/tmp/ipykernel_19/2256086796.py:9: PerformanceWarning: DataFrame is highly fragmented.  This is usually the result of calling `frame.insert` many times, which has poor performance.  Consider joining all columns at once using pd.concat(axis=1) instead. To get a de-fragmented frame, use `newframe = frame.copy()`\n",
      "  X_test[col] = 0\n",
      "/tmp/ipykernel_19/2256086796.py:9: PerformanceWarning: DataFrame is highly fragmented.  This is usually the result of calling `frame.insert` many times, which has poor performance.  Consider joining all columns at once using pd.concat(axis=1) instead. To get a de-fragmented frame, use `newframe = frame.copy()`\n",
      "  X_test[col] = 0\n",
      "/tmp/ipykernel_19/2256086796.py:9: PerformanceWarning: DataFrame is highly fragmented.  This is usually the result of calling `frame.insert` many times, which has poor performance.  Consider joining all columns at once using pd.concat(axis=1) instead. To get a de-fragmented frame, use `newframe = frame.copy()`\n",
      "  X_test[col] = 0\n",
      "/tmp/ipykernel_19/2256086796.py:9: PerformanceWarning: DataFrame is highly fragmented.  This is usually the result of calling `frame.insert` many times, which has poor performance.  Consider joining all columns at once using pd.concat(axis=1) instead. To get a de-fragmented frame, use `newframe = frame.copy()`\n",
      "  X_test[col] = 0\n",
      "/tmp/ipykernel_19/2256086796.py:9: PerformanceWarning: DataFrame is highly fragmented.  This is usually the result of calling `frame.insert` many times, which has poor performance.  Consider joining all columns at once using pd.concat(axis=1) instead. To get a de-fragmented frame, use `newframe = frame.copy()`\n",
      "  X_test[col] = 0\n",
      "/tmp/ipykernel_19/2256086796.py:9: PerformanceWarning: DataFrame is highly fragmented.  This is usually the result of calling `frame.insert` many times, which has poor performance.  Consider joining all columns at once using pd.concat(axis=1) instead. To get a de-fragmented frame, use `newframe = frame.copy()`\n",
      "  X_test[col] = 0\n"
     ]
    }
   ],
   "source": [
    "# Find columns that are in X but not in X_test\n",
    "cols_in_X_not_in_X_test = list(set(X.columns) - set(X_test.columns))\n",
    "\n",
    "# Find columns that are in X_test but not in X\n",
    "cols_in_X_test_not_in_X = list(set(X_test.columns) - set(X.columns))\n",
    "\n",
    "# Add missing columns in X_test and set their values to 0\n",
    "for col in cols_in_X_not_in_X_test:\n",
    "    X_test[col] = 0\n",
    "\n",
    "# Add missing columns in X and set their values to 0\n",
    "for col in cols_in_X_test_not_in_X:\n",
    "    X[col] = 0\n",
    "\n",
    "# Ensure that the columns are in the same order for both datasets\n",
    "X_test = X_test[X.columns]"
   ]
  },
  {
   "cell_type": "code",
   "execution_count": 46,
   "id": "72018eca",
   "metadata": {
    "execution": {
     "iopub.execute_input": "2024-08-19T13:21:32.730586Z",
     "iopub.status.busy": "2024-08-19T13:21:32.730192Z",
     "iopub.status.idle": "2024-08-19T13:21:32.735834Z",
     "shell.execute_reply": "2024-08-19T13:21:32.734487Z"
    },
    "papermill": {
     "duration": 0.049533,
     "end_time": "2024-08-19T13:21:32.738458",
     "exception": false,
     "start_time": "2024-08-19T13:21:32.688925",
     "status": "completed"
    },
    "tags": []
   },
   "outputs": [],
   "source": [
    "# X.dtypes"
   ]
  },
  {
   "cell_type": "markdown",
   "id": "a1998f2a",
   "metadata": {
    "papermill": {
     "duration": 0.040207,
     "end_time": "2024-08-19T13:21:32.820359",
     "exception": false,
     "start_time": "2024-08-19T13:21:32.780152",
     "status": "completed"
    },
    "tags": []
   },
   "source": [
    "## XGBoost - Submission"
   ]
  },
  {
   "cell_type": "code",
   "execution_count": 47,
   "id": "6cc6436f",
   "metadata": {
    "execution": {
     "iopub.execute_input": "2024-08-19T13:21:32.903950Z",
     "iopub.status.busy": "2024-08-19T13:21:32.903306Z",
     "iopub.status.idle": "2024-08-19T13:21:32.910390Z",
     "shell.execute_reply": "2024-08-19T13:21:32.908934Z"
    },
    "papermill": {
     "duration": 0.051651,
     "end_time": "2024-08-19T13:21:32.913361",
     "exception": false,
     "start_time": "2024-08-19T13:21:32.861710",
     "status": "completed"
    },
    "tags": []
   },
   "outputs": [],
   "source": [
    "# import xgboost as xgb\n",
    "\n",
    "# # Initialize LabelEncoder\n",
    "# label_encoder = LabelEncoder()\n",
    "\n",
    "# y_encoded = label_encoder.fit_transform(y)\n",
    "\n",
    "# # Initialize the XGBoost classifier\n",
    "# xgb_model = xgb.XGBClassifier(use_label_encoder=False, eval_metric='mlogloss')\n",
    "\n",
    "# # fit the model on training data\n",
    "# xgb_model.fit(X, y_encoded)\n",
    "\n",
    "# # Predict on test data\n",
    "# y_pred_encoded = xgb_model.predict(X_test)\n",
    "\n",
    "# # change predictions back to original labels\n",
    "# y_pred = label_encoder.inverse_transform(y_pred_encoded)\n",
    "# # 0.95580"
   ]
  },
  {
   "cell_type": "code",
   "execution_count": 48,
   "id": "20720629",
   "metadata": {
    "execution": {
     "iopub.execute_input": "2024-08-19T13:21:32.998144Z",
     "iopub.status.busy": "2024-08-19T13:21:32.997266Z",
     "iopub.status.idle": "2024-08-19T13:21:49.663752Z",
     "shell.execute_reply": "2024-08-19T13:21:49.662257Z"
    },
    "papermill": {
     "duration": 16.713387,
     "end_time": "2024-08-19T13:21:49.666991",
     "exception": false,
     "start_time": "2024-08-19T13:21:32.953604",
     "status": "completed"
    },
    "tags": []
   },
   "outputs": [],
   "source": [
    "import xgboost as xgb\n",
    "\n",
    "# Initialize LabelEncoder\n",
    "label_encoder = LabelEncoder()\n",
    "\n",
    "y_encoded = label_encoder.fit_transform(y)\n",
    "\n",
    "# Initialize the XGBoost classifier\n",
    "xgb_model = xgb.XGBClassifier(use_label_encoder=False, eval_metric='mlogloss')\n",
    "\n",
    "# fit the model on training data\n",
    "xgb_model.fit(X, y_encoded)\n",
    "\n",
    "# Predict on test data\n",
    "y_pred_encoded = xgb_model.predict(X_test)\n",
    "\n",
    "# change predictions back to original labels\n",
    "y_pred = label_encoder.inverse_transform(y_pred_encoded)\n",
    "# 0.95580"
   ]
  },
  {
   "cell_type": "markdown",
   "id": "766460ea",
   "metadata": {
    "papermill": {
     "duration": 0.039728,
     "end_time": "2024-08-19T13:21:49.747601",
     "exception": false,
     "start_time": "2024-08-19T13:21:49.707873",
     "status": "completed"
    },
    "tags": []
   },
   "source": [
    "## RandomForestCLassifier - Submission"
   ]
  },
  {
   "cell_type": "code",
   "execution_count": 49,
   "id": "fe4e5ca0",
   "metadata": {
    "execution": {
     "iopub.execute_input": "2024-08-19T13:21:49.832564Z",
     "iopub.status.busy": "2024-08-19T13:21:49.832120Z",
     "iopub.status.idle": "2024-08-19T13:21:49.837818Z",
     "shell.execute_reply": "2024-08-19T13:21:49.836618Z"
    },
    "papermill": {
     "duration": 0.051231,
     "end_time": "2024-08-19T13:21:49.840844",
     "exception": false,
     "start_time": "2024-08-19T13:21:49.789613",
     "status": "completed"
    },
    "tags": []
   },
   "outputs": [],
   "source": [
    "# from sklearn.ensemble import RandomForestClassifier\n",
    "\n",
    "# model = RandomForestClassifier()\n",
    "# model.fit(X, y)\n",
    "\n",
    "# y_pred = model.predict(X_test)\n",
    "# # 0.94140"
   ]
  },
  {
   "cell_type": "markdown",
   "id": "ee1a956f",
   "metadata": {
    "papermill": {
     "duration": 0.040089,
     "end_time": "2024-08-19T13:21:49.921502",
     "exception": false,
     "start_time": "2024-08-19T13:21:49.881413",
     "status": "completed"
    },
    "tags": []
   },
   "source": [
    "## GradientBoostingCLassifier - Submission"
   ]
  },
  {
   "cell_type": "code",
   "execution_count": 50,
   "id": "6fc1faa4",
   "metadata": {
    "execution": {
     "iopub.execute_input": "2024-08-19T13:21:50.005844Z",
     "iopub.status.busy": "2024-08-19T13:21:50.004911Z",
     "iopub.status.idle": "2024-08-19T13:21:50.011122Z",
     "shell.execute_reply": "2024-08-19T13:21:50.009763Z"
    },
    "papermill": {
     "duration": 0.054043,
     "end_time": "2024-08-19T13:21:50.016020",
     "exception": false,
     "start_time": "2024-08-19T13:21:49.961977",
     "status": "completed"
    },
    "tags": []
   },
   "outputs": [],
   "source": [
    "# from sklearn.ensemble import GradientBoostingClassifier\n",
    "\n",
    "# model = GradientBoostingClassifier()\n",
    "# model.fit(X, y)\n",
    "\n",
    "# y_pred = model.predict(X_test)\n",
    "# # 0.94240"
   ]
  },
  {
   "cell_type": "markdown",
   "id": "1c99fe6e",
   "metadata": {
    "papermill": {
     "duration": 0.039622,
     "end_time": "2024-08-19T13:21:50.099775",
     "exception": false,
     "start_time": "2024-08-19T13:21:50.060153",
     "status": "completed"
    },
    "tags": []
   },
   "source": [
    "## ExtraTreesClassifier - Submission"
   ]
  },
  {
   "cell_type": "code",
   "execution_count": 51,
   "id": "adc1fe3c",
   "metadata": {
    "execution": {
     "iopub.execute_input": "2024-08-19T13:21:50.183160Z",
     "iopub.status.busy": "2024-08-19T13:21:50.182629Z",
     "iopub.status.idle": "2024-08-19T13:21:50.188530Z",
     "shell.execute_reply": "2024-08-19T13:21:50.187363Z"
    },
    "papermill": {
     "duration": 0.050487,
     "end_time": "2024-08-19T13:21:50.191170",
     "exception": false,
     "start_time": "2024-08-19T13:21:50.140683",
     "status": "completed"
    },
    "tags": []
   },
   "outputs": [],
   "source": [
    "# from sklearn.ensemble import ExtraTreesClassifier\n",
    "\n",
    "# model = ExtraTreesClassifier()\n",
    "# model.fit(X, y)\n",
    "\n",
    "# y_pred = model.predict(X_test)\n",
    "\n",
    "# # # 0.95180"
   ]
  },
  {
   "cell_type": "markdown",
   "id": "d35e1e0f",
   "metadata": {
    "papermill": {
     "duration": 0.040283,
     "end_time": "2024-08-19T13:21:50.271338",
     "exception": false,
     "start_time": "2024-08-19T13:21:50.231055",
     "status": "completed"
    },
    "tags": []
   },
   "source": [
    "## LogisticRegression - Submission"
   ]
  },
  {
   "cell_type": "code",
   "execution_count": 52,
   "id": "15f5c2c6",
   "metadata": {
    "execution": {
     "iopub.execute_input": "2024-08-19T13:21:50.353425Z",
     "iopub.status.busy": "2024-08-19T13:21:50.352864Z",
     "iopub.status.idle": "2024-08-19T13:21:50.358546Z",
     "shell.execute_reply": "2024-08-19T13:21:50.357183Z"
    },
    "papermill": {
     "duration": 0.049825,
     "end_time": "2024-08-19T13:21:50.361238",
     "exception": false,
     "start_time": "2024-08-19T13:21:50.311413",
     "status": "completed"
    },
    "tags": []
   },
   "outputs": [],
   "source": [
    "# log_reg_model = LogisticRegression(C=1, solver='newton-cg')\n",
    "# log_reg_model.fit(X, y)\n",
    "# y_pred = log_reg_model.predict(X_test)\n",
    "# # 0.94060"
   ]
  },
  {
   "cell_type": "code",
   "execution_count": 53,
   "id": "c13e6cd8",
   "metadata": {
    "execution": {
     "iopub.execute_input": "2024-08-19T13:21:50.446716Z",
     "iopub.status.busy": "2024-08-19T13:21:50.446268Z",
     "iopub.status.idle": "2024-08-19T13:21:50.470596Z",
     "shell.execute_reply": "2024-08-19T13:21:50.469144Z"
    },
    "papermill": {
     "duration": 0.071024,
     "end_time": "2024-08-19T13:21:50.473976",
     "exception": false,
     "start_time": "2024-08-19T13:21:50.402952",
     "status": "completed"
    },
    "tags": []
   },
   "outputs": [],
   "source": [
    "submission = pd.DataFrame({\n",
    "                           \"ID\": np.arange(1,5001), \n",
    "                           \"Crime_Category\": y_pred,\n",
    "                          }) \n",
    "\n",
    "submission.to_csv('submission.csv',index=False)"
   ]
  }
 ],
 "metadata": {
  "kaggle": {
   "accelerator": "none",
   "dataSources": [
    {
     "databundleVersionId": 8446444,
     "sourceId": 77420,
     "sourceType": "competition"
    }
   ],
   "dockerImageVersionId": 30732,
   "isGpuEnabled": false,
   "isInternetEnabled": true,
   "language": "python",
   "sourceType": "notebook"
  },
  "kernelspec": {
   "display_name": "Python 3",
   "language": "python",
   "name": "python3"
  },
  "language_info": {
   "codemirror_mode": {
    "name": "ipython",
    "version": 3
   },
   "file_extension": ".py",
   "mimetype": "text/x-python",
   "name": "python",
   "nbconvert_exporter": "python",
   "pygments_lexer": "ipython3",
   "version": "3.10.13"
  },
  "papermill": {
   "default_parameters": {},
   "duration": 39.741666,
   "end_time": "2024-08-19T13:21:51.642494",
   "environment_variables": {},
   "exception": null,
   "input_path": "__notebook__.ipynb",
   "output_path": "__notebook__.ipynb",
   "parameters": {},
   "start_time": "2024-08-19T13:21:11.900828",
   "version": "2.5.0"
  }
 },
 "nbformat": 4,
 "nbformat_minor": 5
}
